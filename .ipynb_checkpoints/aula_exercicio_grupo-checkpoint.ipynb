{
 "cells": [
  {
   "cell_type": "markdown",
   "id": "9dd1cb0e",
   "metadata": {},
   "source": [
    "# Exercícios de Visualização de Informação - P1"
   ]
  },
  {
   "cell_type": "markdown",
   "id": "1969a3cf",
   "metadata": {},
   "source": [
    "Risco de incêndio\n",
    "\n",
    "O risco de acontecer um incêndio pode ser calculado considerando como parâmetros, a temperatura e a humidade do ar. O risco de incêndio aumenta quanto maior for a temperatura e menor o nível de humidade. Quando o risco de incêndio é elevado, a população é informada através de avisos de alerta.\n",
    "\n",
    "Programe a função risco que a partir de uma sequência de registos indica quais os dias em que existiu risco de incêndio. O risco de incêncio acontece quando a temperatura é superior a \n",
    "30\n",
    "30\n",
    " e a humidade inferior a \n",
    "60\n",
    "60\n",
    ". O dia pode ser identificado, sabendo que o primeiro registo corresponde ao dia 2019-01-01.\n",
    "\n",
    "Por exemplo, dada uma sequência de registos, contendo cada registo, o número da observação, a temperatura e a humidade:"
   ]
  },
  {
   "cell_type": "code",
   "execution_count": 1,
   "id": "73e27b51",
   "metadata": {},
   "outputs": [],
   "source": [
    "data = [\n",
    "    [1,28,89],\n",
    "    [2,27,94],\n",
    "    [3,25,96],\n",
    "    [4,30,100],\n",
    "    [5,31,98],\n",
    "    [6,29,81],\n",
    "    [7,29,60],\n",
    "    [8,31,73],\n",
    "    [9,26,88],\n",
    "    [10,27,85],\n",
    "    [11,27,88],\n",
    "    [12,33,89],\n",
    "    [13,34,80],\n",
    "    [14,28,100],\n",
    "    [15,28,97],\n",
    "    [16,27,95],\n",
    "    [17,31,96],\n",
    "    [18,29,96],\n",
    "    [19,27,88],\n",
    "    [20,33,70],\n",
    "    [21,35,68],\n",
    "    [22,33,56],\n",
    "    [23,30,96],\n",
    "    [24,34,96],\n",
    "    [25,36,96]\n",
    "]"
   ]
  },
  {
   "cell_type": "code",
   "execution_count": 2,
   "id": "7c9b70ea",
   "metadata": {},
   "outputs": [
    {
     "data": {
      "text/plain": [
       "[[1, 28, 89],\n",
       " [2, 27, 94],\n",
       " [3, 25, 96],\n",
       " [4, 30, 100],\n",
       " [5, 31, 98],\n",
       " [6, 29, 81],\n",
       " [7, 29, 60],\n",
       " [8, 31, 73],\n",
       " [9, 26, 88],\n",
       " [10, 27, 85],\n",
       " [11, 27, 88],\n",
       " [12, 33, 89],\n",
       " [13, 34, 80],\n",
       " [14, 28, 100],\n",
       " [15, 28, 97],\n",
       " [16, 27, 95],\n",
       " [17, 31, 96],\n",
       " [18, 29, 96],\n",
       " [19, 27, 88],\n",
       " [20, 33, 70],\n",
       " [21, 35, 68],\n",
       " [22, 33, 56],\n",
       " [23, 30, 96],\n",
       " [24, 34, 96],\n",
       " [25, 36, 96]]"
      ]
     },
     "execution_count": 2,
     "metadata": {},
     "output_type": "execute_result"
    }
   ],
   "source": [
    "data"
   ]
  },
  {
   "cell_type": "code",
   "execution_count": 18,
   "id": "2462dc21",
   "metadata": {},
   "outputs": [],
   "source": [
    "import pandas as pd"
   ]
  },
  {
   "cell_type": "code",
   "execution_count": 30,
   "id": "e411a70d",
   "metadata": {},
   "outputs": [
    {
     "data": {
      "text/plain": [
       "DatetimeIndex(['2019-01-01', '2019-01-02', '2019-01-03', '2019-01-04',\n",
       "               '2019-01-05', '2019-01-06', '2019-01-07', '2019-01-08',\n",
       "               '2019-01-09', '2019-01-10', '2019-01-11', '2019-01-12',\n",
       "               '2019-01-13', '2019-01-14', '2019-01-15', '2019-01-16',\n",
       "               '2019-01-17', '2019-01-18', '2019-01-19', '2019-01-20',\n",
       "               '2019-01-21', '2019-01-22', '2019-01-23', '2019-01-24',\n",
       "               '2019-01-25'],\n",
       "              dtype='datetime64[ns]', freq='D')"
      ]
     },
     "execution_count": 30,
     "metadata": {},
     "output_type": "execute_result"
    }
   ],
   "source": [
    "datas = pd.date_range(start ='1-1-2019', periods = len(data), freq='D')\n",
    "dataframe = pd.DataFrame(data)"
   ]
  },
  {
   "cell_type": "code",
   "execution_count": 38,
   "id": "c339248f",
   "metadata": {},
   "outputs": [],
   "source": [
    "dataframe['datas'] = datas\n",
    "del dataframe[dataframe.columns[0]]"
   ]
  },
  {
   "cell_type": "code",
   "execution_count": 39,
   "id": "20df00c0",
   "metadata": {},
   "outputs": [],
   "source": [
    "dataframe = dataframe.set_index('datas') "
   ]
  },
  {
   "cell_type": "code",
   "execution_count": 123,
   "id": "6771f9c7",
   "metadata": {},
   "outputs": [
    {
     "data": {
      "text/html": [
       "<div>\n",
       "<style scoped>\n",
       "    .dataframe tbody tr th:only-of-type {\n",
       "        vertical-align: middle;\n",
       "    }\n",
       "\n",
       "    .dataframe tbody tr th {\n",
       "        vertical-align: top;\n",
       "    }\n",
       "\n",
       "    .dataframe thead th {\n",
       "        text-align: right;\n",
       "    }\n",
       "</style>\n",
       "<table border=\"1\" class=\"dataframe\">\n",
       "  <thead>\n",
       "    <tr style=\"text-align: right;\">\n",
       "      <th></th>\n",
       "      <th>temperatura</th>\n",
       "      <th>umidade</th>\n",
       "    </tr>\n",
       "    <tr>\n",
       "      <th>datas</th>\n",
       "      <th></th>\n",
       "      <th></th>\n",
       "    </tr>\n",
       "  </thead>\n",
       "  <tbody>\n",
       "    <tr>\n",
       "      <th>2019-01-01</th>\n",
       "      <td>28</td>\n",
       "      <td>89</td>\n",
       "    </tr>\n",
       "    <tr>\n",
       "      <th>2019-01-02</th>\n",
       "      <td>27</td>\n",
       "      <td>94</td>\n",
       "    </tr>\n",
       "    <tr>\n",
       "      <th>2019-01-03</th>\n",
       "      <td>25</td>\n",
       "      <td>96</td>\n",
       "    </tr>\n",
       "    <tr>\n",
       "      <th>2019-01-04</th>\n",
       "      <td>30</td>\n",
       "      <td>100</td>\n",
       "    </tr>\n",
       "    <tr>\n",
       "      <th>2019-01-05</th>\n",
       "      <td>31</td>\n",
       "      <td>98</td>\n",
       "    </tr>\n",
       "    <tr>\n",
       "      <th>2019-01-06</th>\n",
       "      <td>29</td>\n",
       "      <td>81</td>\n",
       "    </tr>\n",
       "    <tr>\n",
       "      <th>2019-01-07</th>\n",
       "      <td>29</td>\n",
       "      <td>60</td>\n",
       "    </tr>\n",
       "    <tr>\n",
       "      <th>2019-01-08</th>\n",
       "      <td>31</td>\n",
       "      <td>73</td>\n",
       "    </tr>\n",
       "    <tr>\n",
       "      <th>2019-01-09</th>\n",
       "      <td>26</td>\n",
       "      <td>88</td>\n",
       "    </tr>\n",
       "    <tr>\n",
       "      <th>2019-01-10</th>\n",
       "      <td>27</td>\n",
       "      <td>85</td>\n",
       "    </tr>\n",
       "  </tbody>\n",
       "</table>\n",
       "</div>"
      ],
      "text/plain": [
       "            temperatura  umidade\n",
       "datas                           \n",
       "2019-01-01           28       89\n",
       "2019-01-02           27       94\n",
       "2019-01-03           25       96\n",
       "2019-01-04           30      100\n",
       "2019-01-05           31       98\n",
       "2019-01-06           29       81\n",
       "2019-01-07           29       60\n",
       "2019-01-08           31       73\n",
       "2019-01-09           26       88\n",
       "2019-01-10           27       85"
      ]
     },
     "execution_count": 123,
     "metadata": {},
     "output_type": "execute_result"
    }
   ],
   "source": [
    "dataframe.head(10)"
   ]
  },
  {
   "cell_type": "code",
   "execution_count": 74,
   "id": "9414abfb",
   "metadata": {},
   "outputs": [],
   "source": [
    "dataframe.columns = ['temperatura', 'umidade']"
   ]
  },
  {
   "cell_type": "code",
   "execution_count": 80,
   "id": "b98abbfd",
   "metadata": {},
   "outputs": [
    {
     "data": {
      "text/html": [
       "<div>\n",
       "<style scoped>\n",
       "    .dataframe tbody tr th:only-of-type {\n",
       "        vertical-align: middle;\n",
       "    }\n",
       "\n",
       "    .dataframe tbody tr th {\n",
       "        vertical-align: top;\n",
       "    }\n",
       "\n",
       "    .dataframe thead th {\n",
       "        text-align: right;\n",
       "    }\n",
       "</style>\n",
       "<table border=\"1\" class=\"dataframe\">\n",
       "  <thead>\n",
       "    <tr style=\"text-align: right;\">\n",
       "      <th></th>\n",
       "      <th>temperatura</th>\n",
       "      <th>umidade</th>\n",
       "    </tr>\n",
       "    <tr>\n",
       "      <th>datas</th>\n",
       "      <th></th>\n",
       "      <th></th>\n",
       "    </tr>\n",
       "  </thead>\n",
       "  <tbody>\n",
       "    <tr>\n",
       "      <th>2019-01-22</th>\n",
       "      <td>33</td>\n",
       "      <td>56</td>\n",
       "    </tr>\n",
       "  </tbody>\n",
       "</table>\n",
       "</div>"
      ],
      "text/plain": [
       "            temperatura  umidade\n",
       "datas                           \n",
       "2019-01-22           33       56"
      ]
     },
     "execution_count": 80,
     "metadata": {},
     "output_type": "execute_result"
    }
   ],
   "source": [
    "dataframe[(dataframe['temperatura'] > 30 ) & (dataframe['umidade'] < 60 )] "
   ]
  },
  {
   "cell_type": "code",
   "execution_count": 99,
   "id": "33c3a65b",
   "metadata": {},
   "outputs": [],
   "source": [
    "import matplotlib.pyplot as plt"
   ]
  },
  {
   "cell_type": "code",
   "execution_count": 158,
   "id": "f7b02e13",
   "metadata": {},
   "outputs": [
    {
     "data": {
      "image/png": "[encoded data removed]",
      "text/plain": [
       "<Figure size 1080x288 with 2 Axes>"
      ]
     },
     "metadata": {
      "needs_background": "light"
     },
     "output_type": "display_data"
    }
   ],
   "source": [
    "fig, ax = plt.subplots(1, 1, figsize=(15,4))\n",
    "\n",
    "POSITION_DOT = 21\n",
    "\n",
    "plt.subplot(2, 1, 1)\n",
    "plt.bar(dataframe.index.values, dataframe['temperatura'])\n",
    "plt.plot(dataframe.index.values[POSITION_DOT], dataframe['temperatura'][POSITION_DOT], marker=\"D\", linestyle=\"\", alpha=0.8, color=\"r\")\n",
    "plt.xticks(dataframe.index[::5])\n",
    "\n",
    "\n",
    "plt.subplot(2, 1, 2)\n",
    "plt.bar(dataframe.index.values, dataframe['umidade'])\n",
    "plt.plot(dataframe.index.values[POSITION_DOT], dataframe['umidade'][POSITION_DOT], marker=\"D\", linestyle=\"\", alpha=0.8, color=\"r\")\n",
    "plt.xticks(dataframe.index[::5])\n",
    "\n",
    "\n",
    "\n",
    "plt.show()"
   ]
  },
  {
   "cell_type": "code",
   "execution_count": null,
   "id": "a1101e1d",
   "metadata": {},
   "outputs": [],
   "source": []
  }
 ],
 "metadata": {
  "kernelspec": {
   "display_name": "Python 3 (ipykernel)",
   "language": "python",
   "name": "python3"
  },
  "language_info": {
   "codemirror_mode": {
    "name": "ipython",
    "version": 3
   },
   "file_extension": ".py",
   "mimetype": "text/x-python",
   "name": "python",
   "nbconvert_exporter": "python",
   "pygments_lexer": "ipython3",
   "version": "3.9.7"
  }
 },
 "nbformat": 4,
 "nbformat_minor": 5
}
