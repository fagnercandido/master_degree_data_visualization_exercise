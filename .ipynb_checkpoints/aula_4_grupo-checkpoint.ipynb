{
 "cells": [
  {
   "cell_type": "code",
   "execution_count": 9,
   "id": "9af3229d",
   "metadata": {},
   "outputs": [
    {
     "data": {
      "text/html": [
       "        <script type=\"text/javascript\">\n",
       "        window.PlotlyConfig = {MathJaxConfig: 'local'};\n",
       "        if (window.MathJax) {MathJax.Hub.Config({SVG: {font: \"STIX-Web\"}});}\n",
       "        if (typeof require !== 'undefined') {\n",
       "        require.undef(\"plotly\");\n",
       "        requirejs.config({\n",
       "            paths: {\n",
       "                'plotly': ['https://cdn.plot.ly/plotly-2.9.0.min']\n",
       "            }\n",
       "        });\n",
       "        require(['plotly'], function(Plotly) {\n",
       "            window._Plotly = Plotly;\n",
       "        });\n",
       "        }\n",
       "        </script>\n",
       "        "
      ]
     },
     "metadata": {},
     "output_type": "display_data"
    },
    {
     "data": {
      "text/html": [
       "<div>\n",
       "<style scoped>\n",
       "    .dataframe tbody tr th:only-of-type {\n",
       "        vertical-align: middle;\n",
       "    }\n",
       "\n",
       "    .dataframe tbody tr th {\n",
       "        vertical-align: top;\n",
       "    }\n",
       "\n",
       "    .dataframe thead th {\n",
       "        text-align: right;\n",
       "    }\n",
       "</style>\n",
       "<table border=\"1\" class=\"dataframe\">\n",
       "  <thead>\n",
       "    <tr style=\"text-align: right;\">\n",
       "      <th></th>\n",
       "      <th>Year/Month</th>\n",
       "      <th>Cigarettes - Packets</th>\n",
       "      <th>Grocery Soft Drinks Sugar Free</th>\n",
       "      <th>Fuel</th>\n",
       "      <th>Confectionery</th>\n",
       "      <th>Vegetables - Fresh</th>\n",
       "      <th>Fruit - Fresh</th>\n",
       "      <th>Snack Foods</th>\n",
       "      <th>Frozen Poultry</th>\n",
       "      <th>Rice, Pasta &amp; Noodles</th>\n",
       "      <th>...</th>\n",
       "      <th>Juices - Non Refrigerated</th>\n",
       "      <th>Eggs</th>\n",
       "      <th>Cheese</th>\n",
       "      <th>Breakfast Foods</th>\n",
       "      <th>Beverages - Coffee/Tea/Milo</th>\n",
       "      <th>Flour</th>\n",
       "      <th>Frozen meals,pizza,pies</th>\n",
       "      <th>Slow Goods Warehouse</th>\n",
       "      <th>Ice Cream sticks- single serve</th>\n",
       "      <th>Toilet Paper</th>\n",
       "    </tr>\n",
       "  </thead>\n",
       "  <tbody>\n",
       "    <tr>\n",
       "      <th>0</th>\n",
       "      <td>2012-11</td>\n",
       "      <td>276191</td>\n",
       "      <td>212026</td>\n",
       "      <td>172230</td>\n",
       "      <td>85038</td>\n",
       "      <td>91149</td>\n",
       "      <td>90595</td>\n",
       "      <td>83852</td>\n",
       "      <td>78862</td>\n",
       "      <td>73603</td>\n",
       "      <td>...</td>\n",
       "      <td>36423</td>\n",
       "      <td>34121</td>\n",
       "      <td>34391</td>\n",
       "      <td>31791</td>\n",
       "      <td>31024</td>\n",
       "      <td>33158</td>\n",
       "      <td>28152</td>\n",
       "      <td>28251</td>\n",
       "      <td>28854</td>\n",
       "      <td>27033</td>\n",
       "    </tr>\n",
       "    <tr>\n",
       "      <th>1</th>\n",
       "      <td>2012-12</td>\n",
       "      <td>292446</td>\n",
       "      <td>243025</td>\n",
       "      <td>232994</td>\n",
       "      <td>89216</td>\n",
       "      <td>83564</td>\n",
       "      <td>91516</td>\n",
       "      <td>80748</td>\n",
       "      <td>86113</td>\n",
       "      <td>82688</td>\n",
       "      <td>...</td>\n",
       "      <td>33151</td>\n",
       "      <td>34905</td>\n",
       "      <td>29825</td>\n",
       "      <td>29901</td>\n",
       "      <td>31190</td>\n",
       "      <td>38999</td>\n",
       "      <td>28525</td>\n",
       "      <td>30726</td>\n",
       "      <td>28178</td>\n",
       "      <td>28577</td>\n",
       "    </tr>\n",
       "    <tr>\n",
       "      <th>2</th>\n",
       "      <td>2013-01</td>\n",
       "      <td>290473</td>\n",
       "      <td>215054</td>\n",
       "      <td>142359</td>\n",
       "      <td>98813</td>\n",
       "      <td>84763</td>\n",
       "      <td>86174</td>\n",
       "      <td>84505</td>\n",
       "      <td>83966</td>\n",
       "      <td>80672</td>\n",
       "      <td>...</td>\n",
       "      <td>33790</td>\n",
       "      <td>36820</td>\n",
       "      <td>30453</td>\n",
       "      <td>34385</td>\n",
       "      <td>33379</td>\n",
       "      <td>33323</td>\n",
       "      <td>30242</td>\n",
       "      <td>31128</td>\n",
       "      <td>24034</td>\n",
       "      <td>30484</td>\n",
       "    </tr>\n",
       "    <tr>\n",
       "      <th>3</th>\n",
       "      <td>2013-02</td>\n",
       "      <td>256482</td>\n",
       "      <td>198961</td>\n",
       "      <td>185252</td>\n",
       "      <td>91071</td>\n",
       "      <td>91789</td>\n",
       "      <td>87549</td>\n",
       "      <td>80773</td>\n",
       "      <td>77338</td>\n",
       "      <td>67169</td>\n",
       "      <td>...</td>\n",
       "      <td>40451</td>\n",
       "      <td>34097</td>\n",
       "      <td>32579</td>\n",
       "      <td>31836</td>\n",
       "      <td>29035</td>\n",
       "      <td>29750</td>\n",
       "      <td>27573</td>\n",
       "      <td>28293</td>\n",
       "      <td>24367</td>\n",
       "      <td>25751</td>\n",
       "    </tr>\n",
       "    <tr>\n",
       "      <th>4</th>\n",
       "      <td>2013-03</td>\n",
       "      <td>278981</td>\n",
       "      <td>195965</td>\n",
       "      <td>139745</td>\n",
       "      <td>91349</td>\n",
       "      <td>110917</td>\n",
       "      <td>93183</td>\n",
       "      <td>86782</td>\n",
       "      <td>91094</td>\n",
       "      <td>78899</td>\n",
       "      <td>...</td>\n",
       "      <td>37824</td>\n",
       "      <td>39094</td>\n",
       "      <td>34756</td>\n",
       "      <td>35224</td>\n",
       "      <td>35163</td>\n",
       "      <td>34912</td>\n",
       "      <td>32355</td>\n",
       "      <td>32266</td>\n",
       "      <td>23372</td>\n",
       "      <td>30697</td>\n",
       "    </tr>\n",
       "    <tr>\n",
       "      <th>5</th>\n",
       "      <td>2013-04</td>\n",
       "      <td>299088</td>\n",
       "      <td>231705</td>\n",
       "      <td>141325</td>\n",
       "      <td>102775</td>\n",
       "      <td>114726</td>\n",
       "      <td>103087</td>\n",
       "      <td>90990</td>\n",
       "      <td>89052</td>\n",
       "      <td>77435</td>\n",
       "      <td>...</td>\n",
       "      <td>37773</td>\n",
       "      <td>38483</td>\n",
       "      <td>34907</td>\n",
       "      <td>35094</td>\n",
       "      <td>34639</td>\n",
       "      <td>31856</td>\n",
       "      <td>33944</td>\n",
       "      <td>32207</td>\n",
       "      <td>30771</td>\n",
       "      <td>29340</td>\n",
       "    </tr>\n",
       "    <tr>\n",
       "      <th>6</th>\n",
       "      <td>2013-05</td>\n",
       "      <td>316130</td>\n",
       "      <td>228277</td>\n",
       "      <td>167146</td>\n",
       "      <td>118315</td>\n",
       "      <td>142285</td>\n",
       "      <td>124644</td>\n",
       "      <td>96207</td>\n",
       "      <td>91870</td>\n",
       "      <td>85163</td>\n",
       "      <td>...</td>\n",
       "      <td>46437</td>\n",
       "      <td>42602</td>\n",
       "      <td>38505</td>\n",
       "      <td>37807</td>\n",
       "      <td>38811</td>\n",
       "      <td>37251</td>\n",
       "      <td>38654</td>\n",
       "      <td>34985</td>\n",
       "      <td>35325</td>\n",
       "      <td>31663</td>\n",
       "    </tr>\n",
       "    <tr>\n",
       "      <th>7</th>\n",
       "      <td>2013-06</td>\n",
       "      <td>292765</td>\n",
       "      <td>202463</td>\n",
       "      <td>141535</td>\n",
       "      <td>117123</td>\n",
       "      <td>125406</td>\n",
       "      <td>117393</td>\n",
       "      <td>92277</td>\n",
       "      <td>91530</td>\n",
       "      <td>75924</td>\n",
       "      <td>...</td>\n",
       "      <td>36869</td>\n",
       "      <td>42408</td>\n",
       "      <td>38728</td>\n",
       "      <td>35983</td>\n",
       "      <td>38682</td>\n",
       "      <td>32658</td>\n",
       "      <td>35812</td>\n",
       "      <td>33200</td>\n",
       "      <td>31910</td>\n",
       "      <td>31334</td>\n",
       "    </tr>\n",
       "    <tr>\n",
       "      <th>8</th>\n",
       "      <td>2013-07</td>\n",
       "      <td>321810</td>\n",
       "      <td>229747</td>\n",
       "      <td>146792</td>\n",
       "      <td>142475</td>\n",
       "      <td>117459</td>\n",
       "      <td>124317</td>\n",
       "      <td>113254</td>\n",
       "      <td>98173</td>\n",
       "      <td>79104</td>\n",
       "      <td>...</td>\n",
       "      <td>44995</td>\n",
       "      <td>45723</td>\n",
       "      <td>44946</td>\n",
       "      <td>42583</td>\n",
       "      <td>40371</td>\n",
       "      <td>34961</td>\n",
       "      <td>39809</td>\n",
       "      <td>42075</td>\n",
       "      <td>38915</td>\n",
       "      <td>31909</td>\n",
       "    </tr>\n",
       "    <tr>\n",
       "      <th>9</th>\n",
       "      <td>2013-08</td>\n",
       "      <td>340023</td>\n",
       "      <td>232801</td>\n",
       "      <td>147264</td>\n",
       "      <td>133976</td>\n",
       "      <td>119002</td>\n",
       "      <td>113335</td>\n",
       "      <td>109712</td>\n",
       "      <td>94126</td>\n",
       "      <td>81209</td>\n",
       "      <td>...</td>\n",
       "      <td>46202</td>\n",
       "      <td>44473</td>\n",
       "      <td>44811</td>\n",
       "      <td>40480</td>\n",
       "      <td>39939</td>\n",
       "      <td>34530</td>\n",
       "      <td>37800</td>\n",
       "      <td>41169</td>\n",
       "      <td>37903</td>\n",
       "      <td>32534</td>\n",
       "    </tr>\n",
       "    <tr>\n",
       "      <th>10</th>\n",
       "      <td>2013-09</td>\n",
       "      <td>318920</td>\n",
       "      <td>222281</td>\n",
       "      <td>167767</td>\n",
       "      <td>121949</td>\n",
       "      <td>95059</td>\n",
       "      <td>102224</td>\n",
       "      <td>99034</td>\n",
       "      <td>84533</td>\n",
       "      <td>69258</td>\n",
       "      <td>...</td>\n",
       "      <td>41754</td>\n",
       "      <td>38451</td>\n",
       "      <td>38080</td>\n",
       "      <td>33878</td>\n",
       "      <td>34113</td>\n",
       "      <td>36247</td>\n",
       "      <td>36611</td>\n",
       "      <td>36161</td>\n",
       "      <td>35208</td>\n",
       "      <td>29194</td>\n",
       "    </tr>\n",
       "    <tr>\n",
       "      <th>11</th>\n",
       "      <td>2013-10</td>\n",
       "      <td>302520</td>\n",
       "      <td>217987</td>\n",
       "      <td>160195</td>\n",
       "      <td>102615</td>\n",
       "      <td>94189</td>\n",
       "      <td>107256</td>\n",
       "      <td>93654</td>\n",
       "      <td>84791</td>\n",
       "      <td>75180</td>\n",
       "      <td>...</td>\n",
       "      <td>43265</td>\n",
       "      <td>40038</td>\n",
       "      <td>36454</td>\n",
       "      <td>37178</td>\n",
       "      <td>33814</td>\n",
       "      <td>34879</td>\n",
       "      <td>36523</td>\n",
       "      <td>33924</td>\n",
       "      <td>33153</td>\n",
       "      <td>28670</td>\n",
       "    </tr>\n",
       "  </tbody>\n",
       "</table>\n",
       "<p>12 rows × 31 columns</p>\n",
       "</div>"
      ],
      "text/plain": [
       "   Year/Month  Cigarettes - Packets  Grocery Soft Drinks Sugar Free    Fuel  \\\n",
       "0     2012-11                276191                          212026  172230   \n",
       "1     2012-12                292446                          243025  232994   \n",
       "2     2013-01                290473                          215054  142359   \n",
       "3     2013-02                256482                          198961  185252   \n",
       "4     2013-03                278981                          195965  139745   \n",
       "5     2013-04                299088                          231705  141325   \n",
       "6     2013-05                316130                          228277  167146   \n",
       "7     2013-06                292765                          202463  141535   \n",
       "8     2013-07                321810                          229747  146792   \n",
       "9     2013-08                340023                          232801  147264   \n",
       "10    2013-09                318920                          222281  167767   \n",
       "11    2013-10                302520                          217987  160195   \n",
       "\n",
       "    Confectionery  Vegetables - Fresh  Fruit - Fresh  Snack Foods  \\\n",
       "0           85038               91149          90595        83852   \n",
       "1           89216               83564          91516        80748   \n",
       "2           98813               84763          86174        84505   \n",
       "3           91071               91789          87549        80773   \n",
       "4           91349              110917          93183        86782   \n",
       "5          102775              114726         103087        90990   \n",
       "6          118315              142285         124644        96207   \n",
       "7          117123              125406         117393        92277   \n",
       "8          142475              117459         124317       113254   \n",
       "9          133976              119002         113335       109712   \n",
       "10         121949               95059         102224        99034   \n",
       "11         102615               94189         107256        93654   \n",
       "\n",
       "    Frozen Poultry  Rice, Pasta & Noodles  ...  Juices - Non Refrigerated  \\\n",
       "0            78862                  73603  ...                      36423   \n",
       "1            86113                  82688  ...                      33151   \n",
       "2            83966                  80672  ...                      33790   \n",
       "3            77338                  67169  ...                      40451   \n",
       "4            91094                  78899  ...                      37824   \n",
       "5            89052                  77435  ...                      37773   \n",
       "6            91870                  85163  ...                      46437   \n",
       "7            91530                  75924  ...                      36869   \n",
       "8            98173                  79104  ...                      44995   \n",
       "9            94126                  81209  ...                      46202   \n",
       "10           84533                  69258  ...                      41754   \n",
       "11           84791                  75180  ...                      43265   \n",
       "\n",
       "     Eggs  Cheese  Breakfast Foods  Beverages - Coffee/Tea/Milo  Flour  \\\n",
       "0   34121   34391            31791                        31024  33158   \n",
       "1   34905   29825            29901                        31190  38999   \n",
       "2   36820   30453            34385                        33379  33323   \n",
       "3   34097   32579            31836                        29035  29750   \n",
       "4   39094   34756            35224                        35163  34912   \n",
       "5   38483   34907            35094                        34639  31856   \n",
       "6   42602   38505            37807                        38811  37251   \n",
       "7   42408   38728            35983                        38682  32658   \n",
       "8   45723   44946            42583                        40371  34961   \n",
       "9   44473   44811            40480                        39939  34530   \n",
       "10  38451   38080            33878                        34113  36247   \n",
       "11  40038   36454            37178                        33814  34879   \n",
       "\n",
       "    Frozen meals,pizza,pies  Slow Goods Warehouse  \\\n",
       "0                     28152                 28251   \n",
       "1                     28525                 30726   \n",
       "2                     30242                 31128   \n",
       "3                     27573                 28293   \n",
       "4                     32355                 32266   \n",
       "5                     33944                 32207   \n",
       "6                     38654                 34985   \n",
       "7                     35812                 33200   \n",
       "8                     39809                 42075   \n",
       "9                     37800                 41169   \n",
       "10                    36611                 36161   \n",
       "11                    36523                 33924   \n",
       "\n",
       "    Ice Cream sticks- single serve  Toilet Paper  \n",
       "0                            28854         27033  \n",
       "1                            28178         28577  \n",
       "2                            24034         30484  \n",
       "3                            24367         25751  \n",
       "4                            23372         30697  \n",
       "5                            30771         29340  \n",
       "6                            35325         31663  \n",
       "7                            31910         31334  \n",
       "8                            38915         31909  \n",
       "9                            37903         32534  \n",
       "10                           35208         29194  \n",
       "11                           33153         28670  \n",
       "\n",
       "[12 rows x 31 columns]"
      ]
     },
     "execution_count": 9,
     "metadata": {},
     "output_type": "execute_result"
    }
   ],
   "source": [
    "import pandas as pd\n",
    "import plotly.graph_objs as go\n",
    "from plotly.offline import iplot, init_notebook_mode\n",
    "\n",
    "init_notebook_mode(connected = True)\n",
    "\n",
    "dataframe = pd.read_csv('product_sales_report.csv', sep='\\t')\n",
    "del dataframe['id']\n",
    "dataframe"
   ]
  },
  {
   "cell_type": "code",
   "execution_count": 10,
   "id": "5adedcdd",
   "metadata": {},
   "outputs": [
    {
     "data": {
      "text/plain": [
       "[836634, 16255, 30999, 60764, 4178, -7585, 941245]"
      ]
     },
     "execution_count": 10,
     "metadata": {},
     "output_type": "execute_result"
    }
   ],
   "source": [
    "FIRST_ELEMENT = 0\n",
    "SECOND_ELEMENT = 1\n",
    "N_ITEM = 6\n",
    "#dataframe.loc[0].compare(dataframe.loc[1])\n",
    "relativos = dataframe.loc[SECOND_ELEMENT][SECOND_ELEMENT:N_ITEM] - dataframe.loc[FIRST_ELEMENT][SECOND_ELEMENT:N_ITEM]\n",
    "primeiro = dataframe.loc[FIRST_ELEMENT][SECOND_ELEMENT:N_ITEM].sum()\n",
    "ultimo = dataframe.loc[1][SECOND_ELEMENT:N_ITEM].sum()\n",
    "yy = [primeiro] + list(relativos) + [ultimo]\n",
    "yy"
   ]
  },
  {
   "cell_type": "code",
   "execution_count": 22,
   "id": "9602d860",
   "metadata": {},
   "outputs": [
    {
     "data": {
      "text/plain": [
       "['Cigarettes - Packets',\n",
       " 'Grocery Soft Drinks Sugar Free',\n",
       " 'Fuel',\n",
       " 'Confectionery',\n",
       " 'Vegetables - Fresh']"
      ]
     },
     "execution_count": 22,
     "metadata": {},
     "output_type": "execute_result"
    }
   ],
   "source": [
    "colunas  = dataframe.iloc[: , 1:6]\n",
    "colunas = list(colunas.columns)\n",
    "colunas"
   ]
  },
  {
   "cell_type": "code",
   "execution_count": 23,
   "id": "05ed8a8c",
   "metadata": {},
   "outputs": [
    {
     "data": {
      "text/plain": [
       "'2012-11'"
      ]
     },
     "execution_count": 23,
     "metadata": {},
     "output_type": "execute_result"
    }
   ],
   "source": [
    "meses  = dataframe.iloc[:2 , 0:2]\n",
    "meses['Year/Month'][0]"
   ]
  },
  {
   "cell_type": "code",
   "execution_count": 24,
   "id": "a27401a9",
   "metadata": {},
   "outputs": [
    {
     "data": {
      "text/plain": [
       "['2012-11',\n",
       " 'Cigarettes - Packets',\n",
       " 'Grocery Soft Drinks Sugar Free',\n",
       " 'Fuel',\n",
       " 'Confectionery',\n",
       " 'Vegetables - Fresh',\n",
       " '2012-12']"
      ]
     },
     "execution_count": 24,
     "metadata": {},
     "output_type": "execute_result"
    }
   ],
   "source": [
    "colunas.insert(0, meses['Year/Month'][0])\n",
    "colunas.append(meses['Year/Month'][1])\n",
    "colunas"
   ]
  },
  {
   "cell_type": "code",
   "execution_count": 25,
   "id": "0c9bc74e",
   "metadata": {},
   "outputs": [
    {
     "data": {
      "application/vnd.plotly.v1+json": {
       "config": {
        "plotlyServerURL": "https://plot.ly"
       },
       "data": [
        {
         "connector": {
          "line": {
           "color": "rgb(63, 63, 63)"
          }
         },
         "measure": [
          "absolute",
          "relative",
          "relative",
          "relative",
          "relative",
          "relative",
          "absolute"
         ],
         "name": "20",
         "orientation": "v",
         "text": [
          "+836634",
          "+16255",
          "+30999",
          "+60764",
          "+4178",
          "-7585",
          "+941245"
         ],
         "textposition": "outside",
         "type": "waterfall",
         "x": [
          "2012-11",
          "Cigarettes - Packets",
          "Grocery Soft Drinks Sugar Free",
          "Fuel",
          "Confectionery",
          "Vegetables - Fresh",
          "2012-12"
         ],
         "y": [
          836634,
          16255,
          30999,
          60764,
          4178,
          -7585,
          941245
         ]
        }
       ],
       "layout": {
        "height": 500,
        "margin": {
         "b": 30,
         "l": 10,
         "pad": 4,
         "r": 20,
         "t": 30
        },
        "showlegend": true,
        "template": {
         "data": {
          "bar": [
           {
            "error_x": {
             "color": "#2a3f5f"
            },
            "error_y": {
             "color": "#2a3f5f"
            },
            "marker": {
             "line": {
              "color": "#E5ECF6",
              "width": 0.5
             },
             "pattern": {
              "fillmode": "overlay",
              "size": 10,
              "solidity": 0.2
             }
            },
            "type": "bar"
           }
          ],
          "barpolar": [
           {
            "marker": {
             "line": {
              "color": "#E5ECF6",
              "width": 0.5
             },
             "pattern": {
              "fillmode": "overlay",
              "size": 10,
              "solidity": 0.2
             }
            },
            "type": "barpolar"
           }
          ],
          "carpet": [
           {
            "aaxis": {
             "endlinecolor": "#2a3f5f",
             "gridcolor": "white",
             "linecolor": "white",
             "minorgridcolor": "white",
             "startlinecolor": "#2a3f5f"
            },
            "baxis": {
             "endlinecolor": "#2a3f5f",
             "gridcolor": "white",
             "linecolor": "white",
             "minorgridcolor": "white",
             "startlinecolor": "#2a3f5f"
            },
            "type": "carpet"
           }
          ],
          "choropleth": [
           {
            "colorbar": {
             "outlinewidth": 0,
             "ticks": ""
            },
            "type": "choropleth"
           }
          ],
          "contour": [
           {
            "colorbar": {
             "outlinewidth": 0,
             "ticks": ""
            },
            "colorscale": [
             [
              0,
              "#0d0887"
             ],
             [
              0.1111111111111111,
              "#46039f"
             ],
             [
              0.2222222222222222,
              "#7201a8"
             ],
             [
              0.3333333333333333,
              "#9c179e"
             ],
             [
              0.4444444444444444,
              "#bd3786"
             ],
             [
              0.5555555555555556,
              "#d8576b"
             ],
             [
              0.6666666666666666,
              "#ed7953"
             ],
             [
              0.7777777777777778,
              "#fb9f3a"
             ],
             [
              0.8888888888888888,
              "#fdca26"
             ],
             [
              1,
              "#f0f921"
             ]
            ],
            "type": "contour"
           }
          ],
          "contourcarpet": [
           {
            "colorbar": {
             "outlinewidth": 0,
             "ticks": ""
            },
            "type": "contourcarpet"
           }
          ],
          "heatmap": [
           {
            "colorbar": {
             "outlinewidth": 0,
             "ticks": ""
            },
            "colorscale": [
             [
              0,
              "#0d0887"
             ],
             [
              0.1111111111111111,
              "#46039f"
             ],
             [
              0.2222222222222222,
              "#7201a8"
             ],
             [
              0.3333333333333333,
              "#9c179e"
             ],
             [
              0.4444444444444444,
              "#bd3786"
             ],
             [
              0.5555555555555556,
              "#d8576b"
             ],
             [
              0.6666666666666666,
              "#ed7953"
             ],
             [
              0.7777777777777778,
              "#fb9f3a"
             ],
             [
              0.8888888888888888,
              "#fdca26"
             ],
             [
              1,
              "#f0f921"
             ]
            ],
            "type": "heatmap"
           }
          ],
          "heatmapgl": [
           {
            "colorbar": {
             "outlinewidth": 0,
             "ticks": ""
            },
            "colorscale": [
             [
              0,
              "#0d0887"
             ],
             [
              0.1111111111111111,
              "#46039f"
             ],
             [
              0.2222222222222222,
              "#7201a8"
             ],
             [
              0.3333333333333333,
              "#9c179e"
             ],
             [
              0.4444444444444444,
              "#bd3786"
             ],
             [
              0.5555555555555556,
              "#d8576b"
             ],
             [
              0.6666666666666666,
              "#ed7953"
             ],
             [
              0.7777777777777778,
              "#fb9f3a"
             ],
             [
              0.8888888888888888,
              "#fdca26"
             ],
             [
              1,
              "#f0f921"
             ]
            ],
            "type": "heatmapgl"
           }
          ],
          "histogram": [
           {
            "marker": {
             "pattern": {
              "fillmode": "overlay",
              "size": 10,
              "solidity": 0.2
             }
            },
            "type": "histogram"
           }
          ],
          "histogram2d": [
           {
            "colorbar": {
             "outlinewidth": 0,
             "ticks": ""
            },
            "colorscale": [
             [
              0,
              "#0d0887"
             ],
             [
              0.1111111111111111,
              "#46039f"
             ],
             [
              0.2222222222222222,
              "#7201a8"
             ],
             [
              0.3333333333333333,
              "#9c179e"
             ],
             [
              0.4444444444444444,
              "#bd3786"
             ],
             [
              0.5555555555555556,
              "#d8576b"
             ],
             [
              0.6666666666666666,
              "#ed7953"
             ],
             [
              0.7777777777777778,
              "#fb9f3a"
             ],
             [
              0.8888888888888888,
              "#fdca26"
             ],
             [
              1,
              "#f0f921"
             ]
            ],
            "type": "histogram2d"
           }
          ],
          "histogram2dcontour": [
           {
            "colorbar": {
             "outlinewidth": 0,
             "ticks": ""
            },
            "colorscale": [
             [
              0,
              "#0d0887"
             ],
             [
              0.1111111111111111,
              "#46039f"
             ],
             [
              0.2222222222222222,
              "#7201a8"
             ],
             [
              0.3333333333333333,
              "#9c179e"
             ],
             [
              0.4444444444444444,
              "#bd3786"
             ],
             [
              0.5555555555555556,
              "#d8576b"
             ],
             [
              0.6666666666666666,
              "#ed7953"
             ],
             [
              0.7777777777777778,
              "#fb9f3a"
             ],
             [
              0.8888888888888888,
              "#fdca26"
             ],
             [
              1,
              "#f0f921"
             ]
            ],
            "type": "histogram2dcontour"
           }
          ],
          "mesh3d": [
           {
            "colorbar": {
             "outlinewidth": 0,
             "ticks": ""
            },
            "type": "mesh3d"
           }
          ],
          "parcoords": [
           {
            "line": {
             "colorbar": {
              "outlinewidth": 0,
              "ticks": ""
             }
            },
            "type": "parcoords"
           }
          ],
          "pie": [
           {
            "automargin": true,
            "type": "pie"
           }
          ],
          "scatter": [
           {
            "marker": {
             "colorbar": {
              "outlinewidth": 0,
              "ticks": ""
             }
            },
            "type": "scatter"
           }
          ],
          "scatter3d": [
           {
            "line": {
             "colorbar": {
              "outlinewidth": 0,
              "ticks": ""
             }
            },
            "marker": {
             "colorbar": {
              "outlinewidth": 0,
              "ticks": ""
             }
            },
            "type": "scatter3d"
           }
          ],
          "scattercarpet": [
           {
            "marker": {
             "colorbar": {
              "outlinewidth": 0,
              "ticks": ""
             }
            },
            "type": "scattercarpet"
           }
          ],
          "scattergeo": [
           {
            "marker": {
             "colorbar": {
              "outlinewidth": 0,
              "ticks": ""
             }
            },
            "type": "scattergeo"
           }
          ],
          "scattergl": [
           {
            "marker": {
             "colorbar": {
              "outlinewidth": 0,
              "ticks": ""
             }
            },
            "type": "scattergl"
           }
          ],
          "scattermapbox": [
           {
            "marker": {
             "colorbar": {
              "outlinewidth": 0,
              "ticks": ""
             }
            },
            "type": "scattermapbox"
           }
          ],
          "scatterpolar": [
           {
            "marker": {
             "colorbar": {
              "outlinewidth": 0,
              "ticks": ""
             }
            },
            "type": "scatterpolar"
           }
          ],
          "scatterpolargl": [
           {
            "marker": {
             "colorbar": {
              "outlinewidth": 0,
              "ticks": ""
             }
            },
            "type": "scatterpolargl"
           }
          ],
          "scatterternary": [
           {
            "marker": {
             "colorbar": {
              "outlinewidth": 0,
              "ticks": ""
             }
            },
            "type": "scatterternary"
           }
          ],
          "surface": [
           {
            "colorbar": {
             "outlinewidth": 0,
             "ticks": ""
            },
            "colorscale": [
             [
              0,
              "#0d0887"
             ],
             [
              0.1111111111111111,
              "#46039f"
             ],
             [
              0.2222222222222222,
              "#7201a8"
             ],
             [
              0.3333333333333333,
              "#9c179e"
             ],
             [
              0.4444444444444444,
              "#bd3786"
             ],
             [
              0.5555555555555556,
              "#d8576b"
             ],
             [
              0.6666666666666666,
              "#ed7953"
             ],
             [
              0.7777777777777778,
              "#fb9f3a"
             ],
             [
              0.8888888888888888,
              "#fdca26"
             ],
             [
              1,
              "#f0f921"
             ]
            ],
            "type": "surface"
           }
          ],
          "table": [
           {
            "cells": {
             "fill": {
              "color": "#EBF0F8"
             },
             "line": {
              "color": "white"
             }
            },
            "header": {
             "fill": {
              "color": "#C8D4E3"
             },
             "line": {
              "color": "white"
             }
            },
            "type": "table"
           }
          ]
         },
         "layout": {
          "annotationdefaults": {
           "arrowcolor": "#2a3f5f",
           "arrowhead": 0,
           "arrowwidth": 1
          },
          "autotypenumbers": "strict",
          "coloraxis": {
           "colorbar": {
            "outlinewidth": 0,
            "ticks": ""
           }
          },
          "colorscale": {
           "diverging": [
            [
             0,
             "#8e0152"
            ],
            [
             0.1,
             "#c51b7d"
            ],
            [
             0.2,
             "#de77ae"
            ],
            [
             0.3,
             "#f1b6da"
            ],
            [
             0.4,
             "#fde0ef"
            ],
            [
             0.5,
             "#f7f7f7"
            ],
            [
             0.6,
             "#e6f5d0"
            ],
            [
             0.7,
             "#b8e186"
            ],
            [
             0.8,
             "#7fbc41"
            ],
            [
             0.9,
             "#4d9221"
            ],
            [
             1,
             "#276419"
            ]
           ],
           "sequential": [
            [
             0,
             "#0d0887"
            ],
            [
             0.1111111111111111,
             "#46039f"
            ],
            [
             0.2222222222222222,
             "#7201a8"
            ],
            [
             0.3333333333333333,
             "#9c179e"
            ],
            [
             0.4444444444444444,
             "#bd3786"
            ],
            [
             0.5555555555555556,
             "#d8576b"
            ],
            [
             0.6666666666666666,
             "#ed7953"
            ],
            [
             0.7777777777777778,
             "#fb9f3a"
            ],
            [
             0.8888888888888888,
             "#fdca26"
            ],
            [
             1,
             "#f0f921"
            ]
           ],
           "sequentialminus": [
            [
             0,
             "#0d0887"
            ],
            [
             0.1111111111111111,
             "#46039f"
            ],
            [
             0.2222222222222222,
             "#7201a8"
            ],
            [
             0.3333333333333333,
             "#9c179e"
            ],
            [
             0.4444444444444444,
             "#bd3786"
            ],
            [
             0.5555555555555556,
             "#d8576b"
            ],
            [
             0.6666666666666666,
             "#ed7953"
            ],
            [
             0.7777777777777778,
             "#fb9f3a"
            ],
            [
             0.8888888888888888,
             "#fdca26"
            ],
            [
             1,
             "#f0f921"
            ]
           ]
          },
          "colorway": [
           "#636efa",
           "#EF553B",
           "#00cc96",
           "#ab63fa",
           "#FFA15A",
           "#19d3f3",
           "#FF6692",
           "#B6E880",
           "#FF97FF",
           "#FECB52"
          ],
          "font": {
           "color": "#2a3f5f"
          },
          "geo": {
           "bgcolor": "white",
           "lakecolor": "white",
           "landcolor": "#E5ECF6",
           "showlakes": true,
           "showland": true,
           "subunitcolor": "white"
          },
          "hoverlabel": {
           "align": "left"
          },
          "hovermode": "closest",
          "mapbox": {
           "style": "light"
          },
          "paper_bgcolor": "white",
          "plot_bgcolor": "#E5ECF6",
          "polar": {
           "angularaxis": {
            "gridcolor": "white",
            "linecolor": "white",
            "ticks": ""
           },
           "bgcolor": "#E5ECF6",
           "radialaxis": {
            "gridcolor": "white",
            "linecolor": "white",
            "ticks": ""
           }
          },
          "scene": {
           "xaxis": {
            "backgroundcolor": "#E5ECF6",
            "gridcolor": "white",
            "gridwidth": 2,
            "linecolor": "white",
            "showbackground": true,
            "ticks": "",
            "zerolinecolor": "white"
           },
           "yaxis": {
            "backgroundcolor": "#E5ECF6",
            "gridcolor": "white",
            "gridwidth": 2,
            "linecolor": "white",
            "showbackground": true,
            "ticks": "",
            "zerolinecolor": "white"
           },
           "zaxis": {
            "backgroundcolor": "#E5ECF6",
            "gridcolor": "white",
            "gridwidth": 2,
            "linecolor": "white",
            "showbackground": true,
            "ticks": "",
            "zerolinecolor": "white"
           }
          },
          "shapedefaults": {
           "line": {
            "color": "#2a3f5f"
           }
          },
          "ternary": {
           "aaxis": {
            "gridcolor": "white",
            "linecolor": "white",
            "ticks": ""
           },
           "baxis": {
            "gridcolor": "white",
            "linecolor": "white",
            "ticks": ""
           },
           "bgcolor": "#E5ECF6",
           "caxis": {
            "gridcolor": "white",
            "linecolor": "white",
            "ticks": ""
           }
          },
          "title": {
           "x": 0.05
          },
          "xaxis": {
           "automargin": true,
           "gridcolor": "white",
           "linecolor": "white",
           "ticks": "",
           "title": {
            "standoff": 15
           },
           "zerolinecolor": "white",
           "zerolinewidth": 2
          },
          "yaxis": {
           "automargin": true,
           "gridcolor": "white",
           "linecolor": "white",
           "ticks": "",
           "title": {
            "standoff": 15
           },
           "zerolinecolor": "white",
           "zerolinewidth": 2
          }
         }
        },
        "title": {
         "text": "Diferença de Receitas"
        },
        "xaxis": {
         "type": "category"
        }
       }
      },
      "text/html": [
       "<div>                            <div id=\"4aee4fcb-4e89-4bd5-ad88-1a7485128eed\" class=\"plotly-graph-div\" style=\"height:500px; width:100%;\"></div>            <script type=\"text/javascript\">                require([\"plotly\"], function(Plotly) {                    window.PLOTLYENV=window.PLOTLYENV || {};                                    if (document.getElementById(\"4aee4fcb-4e89-4bd5-ad88-1a7485128eed\")) {                    Plotly.newPlot(                        \"4aee4fcb-4e89-4bd5-ad88-1a7485128eed\",                        [{\"connector\":{\"line\":{\"color\":\"rgb(63, 63, 63)\"}},\"measure\":[\"absolute\",\"relative\",\"relative\",\"relative\",\"relative\",\"relative\",\"absolute\"],\"name\":\"20\",\"orientation\":\"v\",\"text\":[\"+836634\",\"+16255\",\"+30999\",\"+60764\",\"+4178\",\"-7585\",\"+941245\"],\"textposition\":\"outside\",\"x\":[\"2012-11\",\"Cigarettes - Packets\",\"Grocery Soft Drinks Sugar Free\",\"Fuel\",\"Confectionery\",\"Vegetables - Fresh\",\"2012-12\"],\"y\":[836634,16255,30999,60764,4178,-7585,941245],\"type\":\"waterfall\"}],                        {\"template\":{\"data\":{\"bar\":[{\"error_x\":{\"color\":\"#2a3f5f\"},\"error_y\":{\"color\":\"#2a3f5f\"},\"marker\":{\"line\":{\"color\":\"#E5ECF6\",\"width\":0.5},\"pattern\":{\"fillmode\":\"overlay\",\"size\":10,\"solidity\":0.2}},\"type\":\"bar\"}],\"barpolar\":[{\"marker\":{\"line\":{\"color\":\"#E5ECF6\",\"width\":0.5},\"pattern\":{\"fillmode\":\"overlay\",\"size\":10,\"solidity\":0.2}},\"type\":\"barpolar\"}],\"carpet\":[{\"aaxis\":{\"endlinecolor\":\"#2a3f5f\",\"gridcolor\":\"white\",\"linecolor\":\"white\",\"minorgridcolor\":\"white\",\"startlinecolor\":\"#2a3f5f\"},\"baxis\":{\"endlinecolor\":\"#2a3f5f\",\"gridcolor\":\"white\",\"linecolor\":\"white\",\"minorgridcolor\":\"white\",\"startlinecolor\":\"#2a3f5f\"},\"type\":\"carpet\"}],\"choropleth\":[{\"colorbar\":{\"outlinewidth\":0,\"ticks\":\"\"},\"type\":\"choropleth\"}],\"contour\":[{\"colorbar\":{\"outlinewidth\":0,\"ticks\":\"\"},\"colorscale\":[[0.0,\"#0d0887\"],[0.1111111111111111,\"#46039f\"],[0.2222222222222222,\"#7201a8\"],[0.3333333333333333,\"#9c179e\"],[0.4444444444444444,\"#bd3786\"],[0.5555555555555556,\"#d8576b\"],[0.6666666666666666,\"#ed7953\"],[0.7777777777777778,\"#fb9f3a\"],[0.8888888888888888,\"#fdca26\"],[1.0,\"#f0f921\"]],\"type\":\"contour\"}],\"contourcarpet\":[{\"colorbar\":{\"outlinewidth\":0,\"ticks\":\"\"},\"type\":\"contourcarpet\"}],\"heatmap\":[{\"colorbar\":{\"outlinewidth\":0,\"ticks\":\"\"},\"colorscale\":[[0.0,\"#0d0887\"],[0.1111111111111111,\"#46039f\"],[0.2222222222222222,\"#7201a8\"],[0.3333333333333333,\"#9c179e\"],[0.4444444444444444,\"#bd3786\"],[0.5555555555555556,\"#d8576b\"],[0.6666666666666666,\"#ed7953\"],[0.7777777777777778,\"#fb9f3a\"],[0.8888888888888888,\"#fdca26\"],[1.0,\"#f0f921\"]],\"type\":\"heatmap\"}],\"heatmapgl\":[{\"colorbar\":{\"outlinewidth\":0,\"ticks\":\"\"},\"colorscale\":[[0.0,\"#0d0887\"],[0.1111111111111111,\"#46039f\"],[0.2222222222222222,\"#7201a8\"],[0.3333333333333333,\"#9c179e\"],[0.4444444444444444,\"#bd3786\"],[0.5555555555555556,\"#d8576b\"],[0.6666666666666666,\"#ed7953\"],[0.7777777777777778,\"#fb9f3a\"],[0.8888888888888888,\"#fdca26\"],[1.0,\"#f0f921\"]],\"type\":\"heatmapgl\"}],\"histogram\":[{\"marker\":{\"pattern\":{\"fillmode\":\"overlay\",\"size\":10,\"solidity\":0.2}},\"type\":\"histogram\"}],\"histogram2d\":[{\"colorbar\":{\"outlinewidth\":0,\"ticks\":\"\"},\"colorscale\":[[0.0,\"#0d0887\"],[0.1111111111111111,\"#46039f\"],[0.2222222222222222,\"#7201a8\"],[0.3333333333333333,\"#9c179e\"],[0.4444444444444444,\"#bd3786\"],[0.5555555555555556,\"#d8576b\"],[0.6666666666666666,\"#ed7953\"],[0.7777777777777778,\"#fb9f3a\"],[0.8888888888888888,\"#fdca26\"],[1.0,\"#f0f921\"]],\"type\":\"histogram2d\"}],\"histogram2dcontour\":[{\"colorbar\":{\"outlinewidth\":0,\"ticks\":\"\"},\"colorscale\":[[0.0,\"#0d0887\"],[0.1111111111111111,\"#46039f\"],[0.2222222222222222,\"#7201a8\"],[0.3333333333333333,\"#9c179e\"],[0.4444444444444444,\"#bd3786\"],[0.5555555555555556,\"#d8576b\"],[0.6666666666666666,\"#ed7953\"],[0.7777777777777778,\"#fb9f3a\"],[0.8888888888888888,\"#fdca26\"],[1.0,\"#f0f921\"]],\"type\":\"histogram2dcontour\"}],\"mesh3d\":[{\"colorbar\":{\"outlinewidth\":0,\"ticks\":\"\"},\"type\":\"mesh3d\"}],\"parcoords\":[{\"line\":{\"colorbar\":{\"outlinewidth\":0,\"ticks\":\"\"}},\"type\":\"parcoords\"}],\"pie\":[{\"automargin\":true,\"type\":\"pie\"}],\"scatter\":[{\"marker\":{\"colorbar\":{\"outlinewidth\":0,\"ticks\":\"\"}},\"type\":\"scatter\"}],\"scatter3d\":[{\"line\":{\"colorbar\":{\"outlinewidth\":0,\"ticks\":\"\"}},\"marker\":{\"colorbar\":{\"outlinewidth\":0,\"ticks\":\"\"}},\"type\":\"scatter3d\"}],\"scattercarpet\":[{\"marker\":{\"colorbar\":{\"outlinewidth\":0,\"ticks\":\"\"}},\"type\":\"scattercarpet\"}],\"scattergeo\":[{\"marker\":{\"colorbar\":{\"outlinewidth\":0,\"ticks\":\"\"}},\"type\":\"scattergeo\"}],\"scattergl\":[{\"marker\":{\"colorbar\":{\"outlinewidth\":0,\"ticks\":\"\"}},\"type\":\"scattergl\"}],\"scattermapbox\":[{\"marker\":{\"colorbar\":{\"outlinewidth\":0,\"ticks\":\"\"}},\"type\":\"scattermapbox\"}],\"scatterpolar\":[{\"marker\":{\"colorbar\":{\"outlinewidth\":0,\"ticks\":\"\"}},\"type\":\"scatterpolar\"}],\"scatterpolargl\":[{\"marker\":{\"colorbar\":{\"outlinewidth\":0,\"ticks\":\"\"}},\"type\":\"scatterpolargl\"}],\"scatterternary\":[{\"marker\":{\"colorbar\":{\"outlinewidth\":0,\"ticks\":\"\"}},\"type\":\"scatterternary\"}],\"surface\":[{\"colorbar\":{\"outlinewidth\":0,\"ticks\":\"\"},\"colorscale\":[[0.0,\"#0d0887\"],[0.1111111111111111,\"#46039f\"],[0.2222222222222222,\"#7201a8\"],[0.3333333333333333,\"#9c179e\"],[0.4444444444444444,\"#bd3786\"],[0.5555555555555556,\"#d8576b\"],[0.6666666666666666,\"#ed7953\"],[0.7777777777777778,\"#fb9f3a\"],[0.8888888888888888,\"#fdca26\"],[1.0,\"#f0f921\"]],\"type\":\"surface\"}],\"table\":[{\"cells\":{\"fill\":{\"color\":\"#EBF0F8\"},\"line\":{\"color\":\"white\"}},\"header\":{\"fill\":{\"color\":\"#C8D4E3\"},\"line\":{\"color\":\"white\"}},\"type\":\"table\"}]},\"layout\":{\"annotationdefaults\":{\"arrowcolor\":\"#2a3f5f\",\"arrowhead\":0,\"arrowwidth\":1},\"autotypenumbers\":\"strict\",\"coloraxis\":{\"colorbar\":{\"outlinewidth\":0,\"ticks\":\"\"}},\"colorscale\":{\"diverging\":[[0,\"#8e0152\"],[0.1,\"#c51b7d\"],[0.2,\"#de77ae\"],[0.3,\"#f1b6da\"],[0.4,\"#fde0ef\"],[0.5,\"#f7f7f7\"],[0.6,\"#e6f5d0\"],[0.7,\"#b8e186\"],[0.8,\"#7fbc41\"],[0.9,\"#4d9221\"],[1,\"#276419\"]],\"sequential\":[[0.0,\"#0d0887\"],[0.1111111111111111,\"#46039f\"],[0.2222222222222222,\"#7201a8\"],[0.3333333333333333,\"#9c179e\"],[0.4444444444444444,\"#bd3786\"],[0.5555555555555556,\"#d8576b\"],[0.6666666666666666,\"#ed7953\"],[0.7777777777777778,\"#fb9f3a\"],[0.8888888888888888,\"#fdca26\"],[1.0,\"#f0f921\"]],\"sequentialminus\":[[0.0,\"#0d0887\"],[0.1111111111111111,\"#46039f\"],[0.2222222222222222,\"#7201a8\"],[0.3333333333333333,\"#9c179e\"],[0.4444444444444444,\"#bd3786\"],[0.5555555555555556,\"#d8576b\"],[0.6666666666666666,\"#ed7953\"],[0.7777777777777778,\"#fb9f3a\"],[0.8888888888888888,\"#fdca26\"],[1.0,\"#f0f921\"]]},\"colorway\":[\"#636efa\",\"#EF553B\",\"#00cc96\",\"#ab63fa\",\"#FFA15A\",\"#19d3f3\",\"#FF6692\",\"#B6E880\",\"#FF97FF\",\"#FECB52\"],\"font\":{\"color\":\"#2a3f5f\"},\"geo\":{\"bgcolor\":\"white\",\"lakecolor\":\"white\",\"landcolor\":\"#E5ECF6\",\"showlakes\":true,\"showland\":true,\"subunitcolor\":\"white\"},\"hoverlabel\":{\"align\":\"left\"},\"hovermode\":\"closest\",\"mapbox\":{\"style\":\"light\"},\"paper_bgcolor\":\"white\",\"plot_bgcolor\":\"#E5ECF6\",\"polar\":{\"angularaxis\":{\"gridcolor\":\"white\",\"linecolor\":\"white\",\"ticks\":\"\"},\"bgcolor\":\"#E5ECF6\",\"radialaxis\":{\"gridcolor\":\"white\",\"linecolor\":\"white\",\"ticks\":\"\"}},\"scene\":{\"xaxis\":{\"backgroundcolor\":\"#E5ECF6\",\"gridcolor\":\"white\",\"gridwidth\":2,\"linecolor\":\"white\",\"showbackground\":true,\"ticks\":\"\",\"zerolinecolor\":\"white\"},\"yaxis\":{\"backgroundcolor\":\"#E5ECF6\",\"gridcolor\":\"white\",\"gridwidth\":2,\"linecolor\":\"white\",\"showbackground\":true,\"ticks\":\"\",\"zerolinecolor\":\"white\"},\"zaxis\":{\"backgroundcolor\":\"#E5ECF6\",\"gridcolor\":\"white\",\"gridwidth\":2,\"linecolor\":\"white\",\"showbackground\":true,\"ticks\":\"\",\"zerolinecolor\":\"white\"}},\"shapedefaults\":{\"line\":{\"color\":\"#2a3f5f\"}},\"ternary\":{\"aaxis\":{\"gridcolor\":\"white\",\"linecolor\":\"white\",\"ticks\":\"\"},\"baxis\":{\"gridcolor\":\"white\",\"linecolor\":\"white\",\"ticks\":\"\"},\"bgcolor\":\"#E5ECF6\",\"caxis\":{\"gridcolor\":\"white\",\"linecolor\":\"white\",\"ticks\":\"\"}},\"title\":{\"x\":0.05},\"xaxis\":{\"automargin\":true,\"gridcolor\":\"white\",\"linecolor\":\"white\",\"ticks\":\"\",\"title\":{\"standoff\":15},\"zerolinecolor\":\"white\",\"zerolinewidth\":2},\"yaxis\":{\"automargin\":true,\"gridcolor\":\"white\",\"linecolor\":\"white\",\"ticks\":\"\",\"title\":{\"standoff\":15},\"zerolinecolor\":\"white\",\"zerolinewidth\":2}}},\"xaxis\":{\"type\":\"category\"},\"margin\":{\"l\":10,\"r\":20,\"t\":30,\"b\":30,\"pad\":4},\"height\":500,\"title\":{\"text\":\"Diferen\\u00e7a de Receitas\"},\"showlegend\":true},                        {\"responsive\": true}                    ).then(function(){\n",
       "                            \n",
       "var gd = document.getElementById('4aee4fcb-4e89-4bd5-ad88-1a7485128eed');\n",
       "var x = new MutationObserver(function (mutations, observer) {{\n",
       "        var display = window.getComputedStyle(gd).display;\n",
       "        if (!display || display === 'none') {{\n",
       "            console.log([gd, 'removed!']);\n",
       "            Plotly.purge(gd);\n",
       "            observer.disconnect();\n",
       "        }}\n",
       "}});\n",
       "\n",
       "// Listen for the removal of the full notebook cells\n",
       "var notebookContainer = gd.closest('#notebook-container');\n",
       "if (notebookContainer) {{\n",
       "    x.observe(notebookContainer, {childList: true});\n",
       "}}\n",
       "\n",
       "// Listen for the clearing of the current output cell\n",
       "var outputEl = gd.closest('.output');\n",
       "if (outputEl) {{\n",
       "    x.observe(outputEl, {childList: true});\n",
       "}}\n",
       "\n",
       "                        })                };                });            </script>        </div>"
      ]
     },
     "metadata": {},
     "output_type": "display_data"
    }
   ],
   "source": [
    "fig = go.Figure(go.Waterfall(\n",
    "    name = \"20\", orientation = \"v\",\n",
    "    measure = [\"absolute\", \"relative\", \"relative\", \"relative\", \"relative\", \"relative\", \"absolute\"],\n",
    "    x = colunas,\n",
    "    textposition = \"outside\",\n",
    "    text = [f'+{item}' if item > 0 else item for item in yy],\n",
    "    y = yy,\n",
    "    connector = {\"line\":{\"color\":\"rgb(63, 63, 63)\"}},\n",
    "))\n",
    "\n",
    "fig.update_layout(\n",
    "    xaxis={'type': 'category'},\n",
    "    height=500,\n",
    "    margin=dict(l=10, r=20, t=30, b=30, pad=4),\n",
    "    title = \"Diferença de Receitas\",\n",
    "    showlegend = True\n",
    ")\n",
    "\n",
    "fig.show()"
   ]
  },
  {
   "cell_type": "code",
   "execution_count": 61,
   "id": "073255c1",
   "metadata": {},
   "outputs": [
    {
     "data": {
      "text/plain": [
       "['Cigarettes - Packets',\n",
       " 'Grocery Soft Drinks Sugar Free',\n",
       " 'Fuel',\n",
       " 'Confectionery',\n",
       " 'Vegetables - Fresh',\n",
       " 'Fruit - Fresh',\n",
       " 'Snack Foods',\n",
       " 'Frozen Poultry',\n",
       " 'Rice, Pasta & Noodles',\n",
       " 'Smallgoods',\n",
       " 'Biscuits',\n",
       " 'Baby Needs/baby food/nappies',\n",
       " 'XPOS PrePaid Phone Credit',\n",
       " 'Frozen Bread',\n",
       " 'Milk Uht/Soy Milk/Powdered',\n",
       " 'Meats - Canned',\n",
       " 'Beef',\n",
       " 'Noodles',\n",
       " 'Milk Products/Soy Milk/ -Chill',\n",
       " 'Powercard',\n",
       " 'Juices - Non Refrigerated',\n",
       " 'Eggs',\n",
       " 'Cheese',\n",
       " 'Breakfast Foods',\n",
       " 'Beverages - Coffee/Tea/Milo',\n",
       " 'Flour',\n",
       " 'Frozen meals,pizza,pies',\n",
       " 'Slow Goods Warehouse',\n",
       " 'Ice Cream sticks- single serve']"
      ]
     },
     "execution_count": 61,
     "metadata": {},
     "output_type": "execute_result"
    }
   ],
   "source": [
    "colunas  = dataframe.iloc[: , 1:-1]\n",
    "colunas = list(colunas.columns)\n",
    "colunas"
   ]
  },
  {
   "cell_type": "code",
   "execution_count": 62,
   "id": "d3a4ceca",
   "metadata": {},
   "outputs": [
    {
     "data": {
      "text/plain": [
       "[1997301,\n",
       " 16255,\n",
       " 30999,\n",
       " 60764,\n",
       " 4178,\n",
       " -7585,\n",
       " 921,\n",
       " -3104,\n",
       " 7251,\n",
       " 9085,\n",
       " 2021,\n",
       " -1428,\n",
       " 200,\n",
       " -960,\n",
       " -5340,\n",
       " 4150,\n",
       " 3386,\n",
       " 6867,\n",
       " 8725,\n",
       " -3944,\n",
       " -6972,\n",
       " -3272,\n",
       " 784,\n",
       " -4566,\n",
       " -1890,\n",
       " 166,\n",
       " 5841,\n",
       " 373,\n",
       " 2475,\n",
       " -676,\n",
       " 2122005]"
      ]
     },
     "execution_count": 62,
     "metadata": {},
     "output_type": "execute_result"
    }
   ],
   "source": [
    "FIRST_ELEMENT = 0\n",
    "SECOND_ELEMENT = 1\n",
    "N_ITEM = len(colunas)+1\n",
    "#dataframe.loc[0].compare(dataframe.loc[1])\n",
    "relativos = dataframe.loc[SECOND_ELEMENT][SECOND_ELEMENT:N_ITEM] - dataframe.loc[FIRST_ELEMENT][SECOND_ELEMENT:N_ITEM]\n",
    "primeiro = dataframe.loc[FIRST_ELEMENT][SECOND_ELEMENT:N_ITEM].sum()\n",
    "ultimo = dataframe.loc[1][SECOND_ELEMENT:N_ITEM].sum()\n",
    "yy = [primeiro] + list(relativos) + [ultimo]\n",
    "yy"
   ]
  },
  {
   "cell_type": "code",
   "execution_count": 63,
   "id": "b2ecb4f3",
   "metadata": {},
   "outputs": [
    {
     "data": {
      "text/plain": [
       "['2012-11',\n",
       " 'Cigarettes - Packets',\n",
       " 'Grocery Soft Drinks Sugar Free',\n",
       " 'Fuel',\n",
       " 'Confectionery',\n",
       " 'Vegetables - Fresh',\n",
       " 'Fruit - Fresh',\n",
       " 'Snack Foods',\n",
       " 'Frozen Poultry',\n",
       " 'Rice, Pasta & Noodles',\n",
       " 'Smallgoods',\n",
       " 'Biscuits',\n",
       " 'Baby Needs/baby food/nappies',\n",
       " 'XPOS PrePaid Phone Credit',\n",
       " 'Frozen Bread',\n",
       " 'Milk Uht/Soy Milk/Powdered',\n",
       " 'Meats - Canned',\n",
       " 'Beef',\n",
       " 'Noodles',\n",
       " 'Milk Products/Soy Milk/ -Chill',\n",
       " 'Powercard',\n",
       " 'Juices - Non Refrigerated',\n",
       " 'Eggs',\n",
       " 'Cheese',\n",
       " 'Breakfast Foods',\n",
       " 'Beverages - Coffee/Tea/Milo',\n",
       " 'Flour',\n",
       " 'Frozen meals,pizza,pies',\n",
       " 'Slow Goods Warehouse',\n",
       " 'Ice Cream sticks- single serve',\n",
       " '2012-12']"
      ]
     },
     "execution_count": 63,
     "metadata": {},
     "output_type": "execute_result"
    }
   ],
   "source": [
    "colunas.insert(0, meses['Year/Month'][0])\n",
    "colunas.append(meses['Year/Month'][1])\n",
    "colunas"
   ]
  },
  {
   "cell_type": "code",
   "execution_count": 64,
   "id": "966ca49c",
   "metadata": {},
   "outputs": [
    {
     "data": {
      "text/plain": [
       "['absolute',\n",
       " 'relative',\n",
       " 'relative',\n",
       " 'relative',\n",
       " 'relative',\n",
       " 'relative',\n",
       " 'relative',\n",
       " 'relative',\n",
       " 'relative',\n",
       " 'relative',\n",
       " 'relative',\n",
       " 'relative',\n",
       " 'relative',\n",
       " 'relative',\n",
       " 'relative',\n",
       " 'relative',\n",
       " 'relative',\n",
       " 'relative',\n",
       " 'relative',\n",
       " 'relative',\n",
       " 'relative',\n",
       " 'relative',\n",
       " 'relative',\n",
       " 'relative',\n",
       " 'relative',\n",
       " 'relative',\n",
       " 'relative',\n",
       " 'relative',\n",
       " 'relative',\n",
       " 'relative',\n",
       " 'absolute']"
      ]
     },
     "execution_count": 64,
     "metadata": {},
     "output_type": "execute_result"
    }
   ],
   "source": [
    "relative_param = ['relative']*(len(colunas)-2)\n",
    "relative_param.insert(0, 'absolute')\n",
    "relative_param.append('absolute')\n",
    "relative_param"
   ]
  },
  {
   "cell_type": "code",
   "execution_count": 65,
   "id": "9523b0f1",
   "metadata": {},
   "outputs": [
    {
     "data": {
      "application/vnd.plotly.v1+json": {
       "config": {
        "plotlyServerURL": "https://plot.ly"
       },
       "data": [
        {
         "connector": {
          "line": {
           "color": "rgb(63, 63, 63)"
          }
         },
         "measure": [
          "absolute",
          "relative",
          "relative",
          "relative",
          "relative",
          "relative",
          "relative",
          "relative",
          "relative",
          "relative",
          "relative",
          "relative",
          "relative",
          "relative",
          "relative",
          "relative",
          "relative",
          "relative",
          "relative",
          "relative",
          "relative",
          "relative",
          "relative",
          "relative",
          "relative",
          "relative",
          "relative",
          "relative",
          "relative",
          "relative",
          "absolute"
         ],
         "name": "20",
         "orientation": "v",
         "text": [
          "+1997301",
          "+16255",
          "+30999",
          "+60764",
          "+4178",
          "-7585",
          "+921",
          "-3104",
          "+7251",
          "+9085",
          "+2021",
          "-1428",
          "+200",
          "-960",
          "-5340",
          "+4150",
          "+3386",
          "+6867",
          "+8725",
          "-3944",
          "-6972",
          "-3272",
          "+784",
          "-4566",
          "-1890",
          "+166",
          "+5841",
          "+373",
          "+2475",
          "-676",
          "+2122005"
         ],
         "textposition": "outside",
         "type": "waterfall",
         "x": [
          "2012-11",
          "Cigarettes - Packets",
          "Grocery Soft Drinks Sugar Free",
          "Fuel",
          "Confectionery",
          "Vegetables - Fresh",
          "Fruit - Fresh",
          "Snack Foods",
          "Frozen Poultry",
          "Rice, Pasta & Noodles",
          "Smallgoods",
          "Biscuits",
          "Baby Needs/baby food/nappies",
          "XPOS PrePaid Phone Credit",
          "Frozen Bread",
          "Milk Uht/Soy Milk/Powdered",
          "Meats - Canned",
          "Beef",
          "Noodles",
          "Milk Products/Soy Milk/ -Chill",
          "Powercard",
          "Juices - Non Refrigerated",
          "Eggs",
          "Cheese",
          "Breakfast Foods",
          "Beverages - Coffee/Tea/Milo",
          "Flour",
          "Frozen meals,pizza,pies",
          "Slow Goods Warehouse",
          "Ice Cream sticks- single serve",
          "2012-12"
         ],
         "y": [
          1997301,
          16255,
          30999,
          60764,
          4178,
          -7585,
          921,
          -3104,
          7251,
          9085,
          2021,
          -1428,
          200,
          -960,
          -5340,
          4150,
          3386,
          6867,
          8725,
          -3944,
          -6972,
          -3272,
          784,
          -4566,
          -1890,
          166,
          5841,
          373,
          2475,
          -676,
          2122005
         ]
        }
       ],
       "layout": {
        "height": 550,
        "margin": {
         "b": 30,
         "l": 10,
         "pad": 4,
         "r": 20,
         "t": 30
        },
        "showlegend": true,
        "template": {
         "data": {
          "bar": [
           {
            "error_x": {
             "color": "#2a3f5f"
            },
            "error_y": {
             "color": "#2a3f5f"
            },
            "marker": {
             "line": {
              "color": "#E5ECF6",
              "width": 0.5
             },
             "pattern": {
              "fillmode": "overlay",
              "size": 10,
              "solidity": 0.2
             }
            },
            "type": "bar"
           }
          ],
          "barpolar": [
           {
            "marker": {
             "line": {
              "color": "#E5ECF6",
              "width": 0.5
             },
             "pattern": {
              "fillmode": "overlay",
              "size": 10,
              "solidity": 0.2
             }
            },
            "type": "barpolar"
           }
          ],
          "carpet": [
           {
            "aaxis": {
             "endlinecolor": "#2a3f5f",
             "gridcolor": "white",
             "linecolor": "white",
             "minorgridcolor": "white",
             "startlinecolor": "#2a3f5f"
            },
            "baxis": {
             "endlinecolor": "#2a3f5f",
             "gridcolor": "white",
             "linecolor": "white",
             "minorgridcolor": "white",
             "startlinecolor": "#2a3f5f"
            },
            "type": "carpet"
           }
          ],
          "choropleth": [
           {
            "colorbar": {
             "outlinewidth": 0,
             "ticks": ""
            },
            "type": "choropleth"
           }
          ],
          "contour": [
           {
            "colorbar": {
             "outlinewidth": 0,
             "ticks": ""
            },
            "colorscale": [
             [
              0,
              "#0d0887"
             ],
             [
              0.1111111111111111,
              "#46039f"
             ],
             [
              0.2222222222222222,
              "#7201a8"
             ],
             [
              0.3333333333333333,
              "#9c179e"
             ],
             [
              0.4444444444444444,
              "#bd3786"
             ],
             [
              0.5555555555555556,
              "#d8576b"
             ],
             [
              0.6666666666666666,
              "#ed7953"
             ],
             [
              0.7777777777777778,
              "#fb9f3a"
             ],
             [
              0.8888888888888888,
              "#fdca26"
             ],
             [
              1,
              "#f0f921"
             ]
            ],
            "type": "contour"
           }
          ],
          "contourcarpet": [
           {
            "colorbar": {
             "outlinewidth": 0,
             "ticks": ""
            },
            "type": "contourcarpet"
           }
          ],
          "heatmap": [
           {
            "colorbar": {
             "outlinewidth": 0,
             "ticks": ""
            },
            "colorscale": [
             [
              0,
              "#0d0887"
             ],
             [
              0.1111111111111111,
              "#46039f"
             ],
             [
              0.2222222222222222,
              "#7201a8"
             ],
             [
              0.3333333333333333,
              "#9c179e"
             ],
             [
              0.4444444444444444,
              "#bd3786"
             ],
             [
              0.5555555555555556,
              "#d8576b"
             ],
             [
              0.6666666666666666,
              "#ed7953"
             ],
             [
              0.7777777777777778,
              "#fb9f3a"
             ],
             [
              0.8888888888888888,
              "#fdca26"
             ],
             [
              1,
              "#f0f921"
             ]
            ],
            "type": "heatmap"
           }
          ],
          "heatmapgl": [
           {
            "colorbar": {
             "outlinewidth": 0,
             "ticks": ""
            },
            "colorscale": [
             [
              0,
              "#0d0887"
             ],
             [
              0.1111111111111111,
              "#46039f"
             ],
             [
              0.2222222222222222,
              "#7201a8"
             ],
             [
              0.3333333333333333,
              "#9c179e"
             ],
             [
              0.4444444444444444,
              "#bd3786"
             ],
             [
              0.5555555555555556,
              "#d8576b"
             ],
             [
              0.6666666666666666,
              "#ed7953"
             ],
             [
              0.7777777777777778,
              "#fb9f3a"
             ],
             [
              0.8888888888888888,
              "#fdca26"
             ],
             [
              1,
              "#f0f921"
             ]
            ],
            "type": "heatmapgl"
           }
          ],
          "histogram": [
           {
            "marker": {
             "pattern": {
              "fillmode": "overlay",
              "size": 10,
              "solidity": 0.2
             }
            },
            "type": "histogram"
           }
          ],
          "histogram2d": [
           {
            "colorbar": {
             "outlinewidth": 0,
             "ticks": ""
            },
            "colorscale": [
             [
              0,
              "#0d0887"
             ],
             [
              0.1111111111111111,
              "#46039f"
             ],
             [
              0.2222222222222222,
              "#7201a8"
             ],
             [
              0.3333333333333333,
              "#9c179e"
             ],
             [
              0.4444444444444444,
              "#bd3786"
             ],
             [
              0.5555555555555556,
              "#d8576b"
             ],
             [
              0.6666666666666666,
              "#ed7953"
             ],
             [
              0.7777777777777778,
              "#fb9f3a"
             ],
             [
              0.8888888888888888,
              "#fdca26"
             ],
             [
              1,
              "#f0f921"
             ]
            ],
            "type": "histogram2d"
           }
          ],
          "histogram2dcontour": [
           {
            "colorbar": {
             "outlinewidth": 0,
             "ticks": ""
            },
            "colorscale": [
             [
              0,
              "#0d0887"
             ],
             [
              0.1111111111111111,
              "#46039f"
             ],
             [
              0.2222222222222222,
              "#7201a8"
             ],
             [
              0.3333333333333333,
              "#9c179e"
             ],
             [
              0.4444444444444444,
              "#bd3786"
             ],
             [
              0.5555555555555556,
              "#d8576b"
             ],
             [
              0.6666666666666666,
              "#ed7953"
             ],
             [
              0.7777777777777778,
              "#fb9f3a"
             ],
             [
              0.8888888888888888,
              "#fdca26"
             ],
             [
              1,
              "#f0f921"
             ]
            ],
            "type": "histogram2dcontour"
           }
          ],
          "mesh3d": [
           {
            "colorbar": {
             "outlinewidth": 0,
             "ticks": ""
            },
            "type": "mesh3d"
           }
          ],
          "parcoords": [
           {
            "line": {
             "colorbar": {
              "outlinewidth": 0,
              "ticks": ""
             }
            },
            "type": "parcoords"
           }
          ],
          "pie": [
           {
            "automargin": true,
            "type": "pie"
           }
          ],
          "scatter": [
           {
            "marker": {
             "colorbar": {
              "outlinewidth": 0,
              "ticks": ""
             }
            },
            "type": "scatter"
           }
          ],
          "scatter3d": [
           {
            "line": {
             "colorbar": {
              "outlinewidth": 0,
              "ticks": ""
             }
            },
            "marker": {
             "colorbar": {
              "outlinewidth": 0,
              "ticks": ""
             }
            },
            "type": "scatter3d"
           }
          ],
          "scattercarpet": [
           {
            "marker": {
             "colorbar": {
              "outlinewidth": 0,
              "ticks": ""
             }
            },
            "type": "scattercarpet"
           }
          ],
          "scattergeo": [
           {
            "marker": {
             "colorbar": {
              "outlinewidth": 0,
              "ticks": ""
             }
            },
            "type": "scattergeo"
           }
          ],
          "scattergl": [
           {
            "marker": {
             "colorbar": {
              "outlinewidth": 0,
              "ticks": ""
             }
            },
            "type": "scattergl"
           }
          ],
          "scattermapbox": [
           {
            "marker": {
             "colorbar": {
              "outlinewidth": 0,
              "ticks": ""
             }
            },
            "type": "scattermapbox"
           }
          ],
          "scatterpolar": [
           {
            "marker": {
             "colorbar": {
              "outlinewidth": 0,
              "ticks": ""
             }
            },
            "type": "scatterpolar"
           }
          ],
          "scatterpolargl": [
           {
            "marker": {
             "colorbar": {
              "outlinewidth": 0,
              "ticks": ""
             }
            },
            "type": "scatterpolargl"
           }
          ],
          "scatterternary": [
           {
            "marker": {
             "colorbar": {
              "outlinewidth": 0,
              "ticks": ""
             }
            },
            "type": "scatterternary"
           }
          ],
          "surface": [
           {
            "colorbar": {
             "outlinewidth": 0,
             "ticks": ""
            },
            "colorscale": [
             [
              0,
              "#0d0887"
             ],
             [
              0.1111111111111111,
              "#46039f"
             ],
             [
              0.2222222222222222,
              "#7201a8"
             ],
             [
              0.3333333333333333,
              "#9c179e"
             ],
             [
              0.4444444444444444,
              "#bd3786"
             ],
             [
              0.5555555555555556,
              "#d8576b"
             ],
             [
              0.6666666666666666,
              "#ed7953"
             ],
             [
              0.7777777777777778,
              "#fb9f3a"
             ],
             [
              0.8888888888888888,
              "#fdca26"
             ],
             [
              1,
              "#f0f921"
             ]
            ],
            "type": "surface"
           }
          ],
          "table": [
           {
            "cells": {
             "fill": {
              "color": "#EBF0F8"
             },
             "line": {
              "color": "white"
             }
            },
            "header": {
             "fill": {
              "color": "#C8D4E3"
             },
             "line": {
              "color": "white"
             }
            },
            "type": "table"
           }
          ]
         },
         "layout": {
          "annotationdefaults": {
           "arrowcolor": "#2a3f5f",
           "arrowhead": 0,
           "arrowwidth": 1
          },
          "autotypenumbers": "strict",
          "coloraxis": {
           "colorbar": {
            "outlinewidth": 0,
            "ticks": ""
           }
          },
          "colorscale": {
           "diverging": [
            [
             0,
             "#8e0152"
            ],
            [
             0.1,
             "#c51b7d"
            ],
            [
             0.2,
             "#de77ae"
            ],
            [
             0.3,
             "#f1b6da"
            ],
            [
             0.4,
             "#fde0ef"
            ],
            [
             0.5,
             "#f7f7f7"
            ],
            [
             0.6,
             "#e6f5d0"
            ],
            [
             0.7,
             "#b8e186"
            ],
            [
             0.8,
             "#7fbc41"
            ],
            [
             0.9,
             "#4d9221"
            ],
            [
             1,
             "#276419"
            ]
           ],
           "sequential": [
            [
             0,
             "#0d0887"
            ],
            [
             0.1111111111111111,
             "#46039f"
            ],
            [
             0.2222222222222222,
             "#7201a8"
            ],
            [
             0.3333333333333333,
             "#9c179e"
            ],
            [
             0.4444444444444444,
             "#bd3786"
            ],
            [
             0.5555555555555556,
             "#d8576b"
            ],
            [
             0.6666666666666666,
             "#ed7953"
            ],
            [
             0.7777777777777778,
             "#fb9f3a"
            ],
            [
             0.8888888888888888,
             "#fdca26"
            ],
            [
             1,
             "#f0f921"
            ]
           ],
           "sequentialminus": [
            [
             0,
             "#0d0887"
            ],
            [
             0.1111111111111111,
             "#46039f"
            ],
            [
             0.2222222222222222,
             "#7201a8"
            ],
            [
             0.3333333333333333,
             "#9c179e"
            ],
            [
             0.4444444444444444,
             "#bd3786"
            ],
            [
             0.5555555555555556,
             "#d8576b"
            ],
            [
             0.6666666666666666,
             "#ed7953"
            ],
            [
             0.7777777777777778,
             "#fb9f3a"
            ],
            [
             0.8888888888888888,
             "#fdca26"
            ],
            [
             1,
             "#f0f921"
            ]
           ]
          },
          "colorway": [
           "#636efa",
           "#EF553B",
           "#00cc96",
           "#ab63fa",
           "#FFA15A",
           "#19d3f3",
           "#FF6692",
           "#B6E880",
           "#FF97FF",
           "#FECB52"
          ],
          "font": {
           "color": "#2a3f5f"
          },
          "geo": {
           "bgcolor": "white",
           "lakecolor": "white",
           "landcolor": "#E5ECF6",
           "showlakes": true,
           "showland": true,
           "subunitcolor": "white"
          },
          "hoverlabel": {
           "align": "left"
          },
          "hovermode": "closest",
          "mapbox": {
           "style": "light"
          },
          "paper_bgcolor": "white",
          "plot_bgcolor": "#E5ECF6",
          "polar": {
           "angularaxis": {
            "gridcolor": "white",
            "linecolor": "white",
            "ticks": ""
           },
           "bgcolor": "#E5ECF6",
           "radialaxis": {
            "gridcolor": "white",
            "linecolor": "white",
            "ticks": ""
           }
          },
          "scene": {
           "xaxis": {
            "backgroundcolor": "#E5ECF6",
            "gridcolor": "white",
            "gridwidth": 2,
            "linecolor": "white",
            "showbackground": true,
            "ticks": "",
            "zerolinecolor": "white"
           },
           "yaxis": {
            "backgroundcolor": "#E5ECF6",
            "gridcolor": "white",
            "gridwidth": 2,
            "linecolor": "white",
            "showbackground": true,
            "ticks": "",
            "zerolinecolor": "white"
           },
           "zaxis": {
            "backgroundcolor": "#E5ECF6",
            "gridcolor": "white",
            "gridwidth": 2,
            "linecolor": "white",
            "showbackground": true,
            "ticks": "",
            "zerolinecolor": "white"
           }
          },
          "shapedefaults": {
           "line": {
            "color": "#2a3f5f"
           }
          },
          "ternary": {
           "aaxis": {
            "gridcolor": "white",
            "linecolor": "white",
            "ticks": ""
           },
           "baxis": {
            "gridcolor": "white",
            "linecolor": "white",
            "ticks": ""
           },
           "bgcolor": "#E5ECF6",
           "caxis": {
            "gridcolor": "white",
            "linecolor": "white",
            "ticks": ""
           }
          },
          "title": {
           "x": 0.05
          },
          "xaxis": {
           "automargin": true,
           "gridcolor": "white",
           "linecolor": "white",
           "ticks": "",
           "title": {
            "standoff": 15
           },
           "zerolinecolor": "white",
           "zerolinewidth": 2
          },
          "yaxis": {
           "automargin": true,
           "gridcolor": "white",
           "linecolor": "white",
           "ticks": "",
           "title": {
            "standoff": 15
           },
           "zerolinecolor": "white",
           "zerolinewidth": 2
          }
         }
        },
        "title": {
         "text": "Diferença de Receitas"
        },
        "xaxis": {
         "type": "category"
        }
       }
      },
      "text/html": [
       "<div>                            <div id=\"66cc4c59-a42e-4e02-8dc2-856fdfbee139\" class=\"plotly-graph-div\" style=\"height:550px; width:100%;\"></div>            <script type=\"text/javascript\">                require([\"plotly\"], function(Plotly) {                    window.PLOTLYENV=window.PLOTLYENV || {};                                    if (document.getElementById(\"66cc4c59-a42e-4e02-8dc2-856fdfbee139\")) {                    Plotly.newPlot(                        \"66cc4c59-a42e-4e02-8dc2-856fdfbee139\",                        [{\"connector\":{\"line\":{\"color\":\"rgb(63, 63, 63)\"}},\"measure\":[\"absolute\",\"relative\",\"relative\",\"relative\",\"relative\",\"relative\",\"relative\",\"relative\",\"relative\",\"relative\",\"relative\",\"relative\",\"relative\",\"relative\",\"relative\",\"relative\",\"relative\",\"relative\",\"relative\",\"relative\",\"relative\",\"relative\",\"relative\",\"relative\",\"relative\",\"relative\",\"relative\",\"relative\",\"relative\",\"relative\",\"absolute\"],\"name\":\"20\",\"orientation\":\"v\",\"text\":[\"+1997301\",\"+16255\",\"+30999\",\"+60764\",\"+4178\",\"-7585\",\"+921\",\"-3104\",\"+7251\",\"+9085\",\"+2021\",\"-1428\",\"+200\",\"-960\",\"-5340\",\"+4150\",\"+3386\",\"+6867\",\"+8725\",\"-3944\",\"-6972\",\"-3272\",\"+784\",\"-4566\",\"-1890\",\"+166\",\"+5841\",\"+373\",\"+2475\",\"-676\",\"+2122005\"],\"textposition\":\"outside\",\"x\":[\"2012-11\",\"Cigarettes - Packets\",\"Grocery Soft Drinks Sugar Free\",\"Fuel\",\"Confectionery\",\"Vegetables - Fresh\",\"Fruit - Fresh\",\"Snack Foods\",\"Frozen Poultry\",\"Rice, Pasta & Noodles\",\"Smallgoods\",\"Biscuits\",\"Baby Needs/baby food/nappies\",\"XPOS PrePaid Phone Credit\",\"Frozen Bread\",\"Milk Uht/Soy Milk/Powdered\",\"Meats - Canned\",\"Beef\",\"Noodles\",\"Milk Products/Soy Milk/ -Chill\",\"Powercard\",\"Juices - Non Refrigerated\",\"Eggs\",\"Cheese\",\"Breakfast Foods\",\"Beverages - Coffee/Tea/Milo\",\"Flour\",\"Frozen meals,pizza,pies\",\"Slow Goods Warehouse\",\"Ice Cream sticks- single serve\",\"2012-12\"],\"y\":[1997301,16255,30999,60764,4178,-7585,921,-3104,7251,9085,2021,-1428,200,-960,-5340,4150,3386,6867,8725,-3944,-6972,-3272,784,-4566,-1890,166,5841,373,2475,-676,2122005],\"type\":\"waterfall\"}],                        {\"template\":{\"data\":{\"bar\":[{\"error_x\":{\"color\":\"#2a3f5f\"},\"error_y\":{\"color\":\"#2a3f5f\"},\"marker\":{\"line\":{\"color\":\"#E5ECF6\",\"width\":0.5},\"pattern\":{\"fillmode\":\"overlay\",\"size\":10,\"solidity\":0.2}},\"type\":\"bar\"}],\"barpolar\":[{\"marker\":{\"line\":{\"color\":\"#E5ECF6\",\"width\":0.5},\"pattern\":{\"fillmode\":\"overlay\",\"size\":10,\"solidity\":0.2}},\"type\":\"barpolar\"}],\"carpet\":[{\"aaxis\":{\"endlinecolor\":\"#2a3f5f\",\"gridcolor\":\"white\",\"linecolor\":\"white\",\"minorgridcolor\":\"white\",\"startlinecolor\":\"#2a3f5f\"},\"baxis\":{\"endlinecolor\":\"#2a3f5f\",\"gridcolor\":\"white\",\"linecolor\":\"white\",\"minorgridcolor\":\"white\",\"startlinecolor\":\"#2a3f5f\"},\"type\":\"carpet\"}],\"choropleth\":[{\"colorbar\":{\"outlinewidth\":0,\"ticks\":\"\"},\"type\":\"choropleth\"}],\"contour\":[{\"colorbar\":{\"outlinewidth\":0,\"ticks\":\"\"},\"colorscale\":[[0.0,\"#0d0887\"],[0.1111111111111111,\"#46039f\"],[0.2222222222222222,\"#7201a8\"],[0.3333333333333333,\"#9c179e\"],[0.4444444444444444,\"#bd3786\"],[0.5555555555555556,\"#d8576b\"],[0.6666666666666666,\"#ed7953\"],[0.7777777777777778,\"#fb9f3a\"],[0.8888888888888888,\"#fdca26\"],[1.0,\"#f0f921\"]],\"type\":\"contour\"}],\"contourcarpet\":[{\"colorbar\":{\"outlinewidth\":0,\"ticks\":\"\"},\"type\":\"contourcarpet\"}],\"heatmap\":[{\"colorbar\":{\"outlinewidth\":0,\"ticks\":\"\"},\"colorscale\":[[0.0,\"#0d0887\"],[0.1111111111111111,\"#46039f\"],[0.2222222222222222,\"#7201a8\"],[0.3333333333333333,\"#9c179e\"],[0.4444444444444444,\"#bd3786\"],[0.5555555555555556,\"#d8576b\"],[0.6666666666666666,\"#ed7953\"],[0.7777777777777778,\"#fb9f3a\"],[0.8888888888888888,\"#fdca26\"],[1.0,\"#f0f921\"]],\"type\":\"heatmap\"}],\"heatmapgl\":[{\"colorbar\":{\"outlinewidth\":0,\"ticks\":\"\"},\"colorscale\":[[0.0,\"#0d0887\"],[0.1111111111111111,\"#46039f\"],[0.2222222222222222,\"#7201a8\"],[0.3333333333333333,\"#9c179e\"],[0.4444444444444444,\"#bd3786\"],[0.5555555555555556,\"#d8576b\"],[0.6666666666666666,\"#ed7953\"],[0.7777777777777778,\"#fb9f3a\"],[0.8888888888888888,\"#fdca26\"],[1.0,\"#f0f921\"]],\"type\":\"heatmapgl\"}],\"histogram\":[{\"marker\":{\"pattern\":{\"fillmode\":\"overlay\",\"size\":10,\"solidity\":0.2}},\"type\":\"histogram\"}],\"histogram2d\":[{\"colorbar\":{\"outlinewidth\":0,\"ticks\":\"\"},\"colorscale\":[[0.0,\"#0d0887\"],[0.1111111111111111,\"#46039f\"],[0.2222222222222222,\"#7201a8\"],[0.3333333333333333,\"#9c179e\"],[0.4444444444444444,\"#bd3786\"],[0.5555555555555556,\"#d8576b\"],[0.6666666666666666,\"#ed7953\"],[0.7777777777777778,\"#fb9f3a\"],[0.8888888888888888,\"#fdca26\"],[1.0,\"#f0f921\"]],\"type\":\"histogram2d\"}],\"histogram2dcontour\":[{\"colorbar\":{\"outlinewidth\":0,\"ticks\":\"\"},\"colorscale\":[[0.0,\"#0d0887\"],[0.1111111111111111,\"#46039f\"],[0.2222222222222222,\"#7201a8\"],[0.3333333333333333,\"#9c179e\"],[0.4444444444444444,\"#bd3786\"],[0.5555555555555556,\"#d8576b\"],[0.6666666666666666,\"#ed7953\"],[0.7777777777777778,\"#fb9f3a\"],[0.8888888888888888,\"#fdca26\"],[1.0,\"#f0f921\"]],\"type\":\"histogram2dcontour\"}],\"mesh3d\":[{\"colorbar\":{\"outlinewidth\":0,\"ticks\":\"\"},\"type\":\"mesh3d\"}],\"parcoords\":[{\"line\":{\"colorbar\":{\"outlinewidth\":0,\"ticks\":\"\"}},\"type\":\"parcoords\"}],\"pie\":[{\"automargin\":true,\"type\":\"pie\"}],\"scatter\":[{\"marker\":{\"colorbar\":{\"outlinewidth\":0,\"ticks\":\"\"}},\"type\":\"scatter\"}],\"scatter3d\":[{\"line\":{\"colorbar\":{\"outlinewidth\":0,\"ticks\":\"\"}},\"marker\":{\"colorbar\":{\"outlinewidth\":0,\"ticks\":\"\"}},\"type\":\"scatter3d\"}],\"scattercarpet\":[{\"marker\":{\"colorbar\":{\"outlinewidth\":0,\"ticks\":\"\"}},\"type\":\"scattercarpet\"}],\"scattergeo\":[{\"marker\":{\"colorbar\":{\"outlinewidth\":0,\"ticks\":\"\"}},\"type\":\"scattergeo\"}],\"scattergl\":[{\"marker\":{\"colorbar\":{\"outlinewidth\":0,\"ticks\":\"\"}},\"type\":\"scattergl\"}],\"scattermapbox\":[{\"marker\":{\"colorbar\":{\"outlinewidth\":0,\"ticks\":\"\"}},\"type\":\"scattermapbox\"}],\"scatterpolar\":[{\"marker\":{\"colorbar\":{\"outlinewidth\":0,\"ticks\":\"\"}},\"type\":\"scatterpolar\"}],\"scatterpolargl\":[{\"marker\":{\"colorbar\":{\"outlinewidth\":0,\"ticks\":\"\"}},\"type\":\"scatterpolargl\"}],\"scatterternary\":[{\"marker\":{\"colorbar\":{\"outlinewidth\":0,\"ticks\":\"\"}},\"type\":\"scatterternary\"}],\"surface\":[{\"colorbar\":{\"outlinewidth\":0,\"ticks\":\"\"},\"colorscale\":[[0.0,\"#0d0887\"],[0.1111111111111111,\"#46039f\"],[0.2222222222222222,\"#7201a8\"],[0.3333333333333333,\"#9c179e\"],[0.4444444444444444,\"#bd3786\"],[0.5555555555555556,\"#d8576b\"],[0.6666666666666666,\"#ed7953\"],[0.7777777777777778,\"#fb9f3a\"],[0.8888888888888888,\"#fdca26\"],[1.0,\"#f0f921\"]],\"type\":\"surface\"}],\"table\":[{\"cells\":{\"fill\":{\"color\":\"#EBF0F8\"},\"line\":{\"color\":\"white\"}},\"header\":{\"fill\":{\"color\":\"#C8D4E3\"},\"line\":{\"color\":\"white\"}},\"type\":\"table\"}]},\"layout\":{\"annotationdefaults\":{\"arrowcolor\":\"#2a3f5f\",\"arrowhead\":0,\"arrowwidth\":1},\"autotypenumbers\":\"strict\",\"coloraxis\":{\"colorbar\":{\"outlinewidth\":0,\"ticks\":\"\"}},\"colorscale\":{\"diverging\":[[0,\"#8e0152\"],[0.1,\"#c51b7d\"],[0.2,\"#de77ae\"],[0.3,\"#f1b6da\"],[0.4,\"#fde0ef\"],[0.5,\"#f7f7f7\"],[0.6,\"#e6f5d0\"],[0.7,\"#b8e186\"],[0.8,\"#7fbc41\"],[0.9,\"#4d9221\"],[1,\"#276419\"]],\"sequential\":[[0.0,\"#0d0887\"],[0.1111111111111111,\"#46039f\"],[0.2222222222222222,\"#7201a8\"],[0.3333333333333333,\"#9c179e\"],[0.4444444444444444,\"#bd3786\"],[0.5555555555555556,\"#d8576b\"],[0.6666666666666666,\"#ed7953\"],[0.7777777777777778,\"#fb9f3a\"],[0.8888888888888888,\"#fdca26\"],[1.0,\"#f0f921\"]],\"sequentialminus\":[[0.0,\"#0d0887\"],[0.1111111111111111,\"#46039f\"],[0.2222222222222222,\"#7201a8\"],[0.3333333333333333,\"#9c179e\"],[0.4444444444444444,\"#bd3786\"],[0.5555555555555556,\"#d8576b\"],[0.6666666666666666,\"#ed7953\"],[0.7777777777777778,\"#fb9f3a\"],[0.8888888888888888,\"#fdca26\"],[1.0,\"#f0f921\"]]},\"colorway\":[\"#636efa\",\"#EF553B\",\"#00cc96\",\"#ab63fa\",\"#FFA15A\",\"#19d3f3\",\"#FF6692\",\"#B6E880\",\"#FF97FF\",\"#FECB52\"],\"font\":{\"color\":\"#2a3f5f\"},\"geo\":{\"bgcolor\":\"white\",\"lakecolor\":\"white\",\"landcolor\":\"#E5ECF6\",\"showlakes\":true,\"showland\":true,\"subunitcolor\":\"white\"},\"hoverlabel\":{\"align\":\"left\"},\"hovermode\":\"closest\",\"mapbox\":{\"style\":\"light\"},\"paper_bgcolor\":\"white\",\"plot_bgcolor\":\"#E5ECF6\",\"polar\":{\"angularaxis\":{\"gridcolor\":\"white\",\"linecolor\":\"white\",\"ticks\":\"\"},\"bgcolor\":\"#E5ECF6\",\"radialaxis\":{\"gridcolor\":\"white\",\"linecolor\":\"white\",\"ticks\":\"\"}},\"scene\":{\"xaxis\":{\"backgroundcolor\":\"#E5ECF6\",\"gridcolor\":\"white\",\"gridwidth\":2,\"linecolor\":\"white\",\"showbackground\":true,\"ticks\":\"\",\"zerolinecolor\":\"white\"},\"yaxis\":{\"backgroundcolor\":\"#E5ECF6\",\"gridcolor\":\"white\",\"gridwidth\":2,\"linecolor\":\"white\",\"showbackground\":true,\"ticks\":\"\",\"zerolinecolor\":\"white\"},\"zaxis\":{\"backgroundcolor\":\"#E5ECF6\",\"gridcolor\":\"white\",\"gridwidth\":2,\"linecolor\":\"white\",\"showbackground\":true,\"ticks\":\"\",\"zerolinecolor\":\"white\"}},\"shapedefaults\":{\"line\":{\"color\":\"#2a3f5f\"}},\"ternary\":{\"aaxis\":{\"gridcolor\":\"white\",\"linecolor\":\"white\",\"ticks\":\"\"},\"baxis\":{\"gridcolor\":\"white\",\"linecolor\":\"white\",\"ticks\":\"\"},\"bgcolor\":\"#E5ECF6\",\"caxis\":{\"gridcolor\":\"white\",\"linecolor\":\"white\",\"ticks\":\"\"}},\"title\":{\"x\":0.05},\"xaxis\":{\"automargin\":true,\"gridcolor\":\"white\",\"linecolor\":\"white\",\"ticks\":\"\",\"title\":{\"standoff\":15},\"zerolinecolor\":\"white\",\"zerolinewidth\":2},\"yaxis\":{\"automargin\":true,\"gridcolor\":\"white\",\"linecolor\":\"white\",\"ticks\":\"\",\"title\":{\"standoff\":15},\"zerolinecolor\":\"white\",\"zerolinewidth\":2}}},\"xaxis\":{\"type\":\"category\"},\"margin\":{\"l\":10,\"r\":20,\"t\":30,\"b\":30,\"pad\":4},\"height\":550,\"title\":{\"text\":\"Diferen\\u00e7a de Receitas\"},\"showlegend\":true},                        {\"responsive\": true}                    ).then(function(){\n",
       "                            \n",
       "var gd = document.getElementById('66cc4c59-a42e-4e02-8dc2-856fdfbee139');\n",
       "var x = new MutationObserver(function (mutations, observer) {{\n",
       "        var display = window.getComputedStyle(gd).display;\n",
       "        if (!display || display === 'none') {{\n",
       "            console.log([gd, 'removed!']);\n",
       "            Plotly.purge(gd);\n",
       "            observer.disconnect();\n",
       "        }}\n",
       "}});\n",
       "\n",
       "// Listen for the removal of the full notebook cells\n",
       "var notebookContainer = gd.closest('#notebook-container');\n",
       "if (notebookContainer) {{\n",
       "    x.observe(notebookContainer, {childList: true});\n",
       "}}\n",
       "\n",
       "// Listen for the clearing of the current output cell\n",
       "var outputEl = gd.closest('.output');\n",
       "if (outputEl) {{\n",
       "    x.observe(outputEl, {childList: true});\n",
       "}}\n",
       "\n",
       "                        })                };                });            </script>        </div>"
      ]
     },
     "metadata": {},
     "output_type": "display_data"
    }
   ],
   "source": [
    "fig = go.Figure(go.Waterfall(\n",
    "    name = \"20\", orientation = \"v\",\n",
    "    measure = relative_param,\n",
    "    x = colunas,\n",
    "    textposition = \"outside\",\n",
    "    text = [f'+{item}' if item > 0 else item for item in yy],\n",
    "    y = yy,\n",
    "    connector = {\"line\":{\"color\":\"rgb(63, 63, 63)\"}},\n",
    "))\n",
    "\n",
    "fig.update_layout(\n",
    "    xaxis={'type': 'category'},\n",
    "    height=550,\n",
    "    margin=dict(l=10, r=20, t=30, b=30, pad=4),\n",
    "    title = \"Diferença de Receitas\",\n",
    "    showlegend = True\n",
    ")\n",
    "\n",
    "fig.show()"
   ]
  },
  {
   "cell_type": "code",
   "execution_count": null,
   "id": "4991457f",
   "metadata": {},
   "outputs": [],
   "source": []
  }
 ],
 "metadata": {
  "kernelspec": {
   "display_name": "Python 3 (ipykernel)",
   "language": "python",
   "name": "python3"
  },
  "language_info": {
   "codemirror_mode": {
    "name": "ipython",
    "version": 3
   },
   "file_extension": ".py",
   "mimetype": "text/x-python",
   "name": "python",
   "nbconvert_exporter": "python",
   "pygments_lexer": "ipython3",
   "version": "3.9.7"
  }
 },
 "nbformat": 4,
 "nbformat_minor": 5
}
