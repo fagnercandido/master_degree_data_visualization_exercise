{
 "cells": [
  {
   "cell_type": "markdown",
   "id": "0e6cdd71",
   "metadata": {},
   "source": [
    "# Exercícios de Visualização de Informação - P1"
   ]
  },
  {
   "cell_type": "markdown",
   "id": "7f0c74f6",
   "metadata": {},
   "source": [
    "Risco de incêndio\n",
    "\n",
    "O risco de acontecer um incêndio pode ser calculado considerando como parâmetros, a temperatura e a humidade do ar. O risco de incêndio aumenta quanto maior for a temperatura e menor o nível de humidade. Quando o risco de incêndio é elevado, a população é informada através de avisos de alerta.\n",
    "\n",
    "Programe a função risco que a partir de uma sequência de registos indica quais os dias em que existiu risco de incêndio. O risco de incêncio acontece quando a temperatura é superior a \n",
    "30\n",
    "30\n",
    " e a humidade inferior a \n",
    "60\n",
    "60\n",
    ". O dia pode ser identificado, sabendo que o primeiro registo corresponde ao dia 2019-01-01.\n",
    "\n",
    "Por exemplo, dada uma sequência de registos, contendo cada registo, o número da observação, a temperatura e a humidade:"
   ]
  },
  {
   "cell_type": "code",
   "execution_count": 1,
   "id": "8b82bdf7",
   "metadata": {},
   "outputs": [],
   "source": [
    "data = [\n",
    "    [1,28,89],\n",
    "    [2,27,94],\n",
    "    [3,25,96],\n",
    "    [4,30,100],\n",
    "    [5,31,98],\n",
    "    [6,29,81],\n",
    "    [7,29,60],\n",
    "    [8,31,73],\n",
    "    [9,26,88],\n",
    "    [10,27,85],\n",
    "    [11,27,88],\n",
    "    [12,33,89],\n",
    "    [13,34,80],\n",
    "    [14,28,100],\n",
    "    [15,28,97],\n",
    "    [16,27,95],\n",
    "    [17,31,96],\n",
    "    [18,29,96],\n",
    "    [19,27,88],\n",
    "    [20,33,70],\n",
    "    [21,35,68],\n",
    "    [22,33,56],\n",
    "    [23,30,96],\n",
    "    [24,34,96],\n",
    "    [25,36,96]\n",
    "]"
   ]
  },
  {
   "cell_type": "code",
   "execution_count": 2,
   "id": "04756f3b",
   "metadata": {},
   "outputs": [
    {
     "data": {
      "text/plain": [
       "[[1, 28, 89],\n",
       " [2, 27, 94],\n",
       " [3, 25, 96],\n",
       " [4, 30, 100],\n",
       " [5, 31, 98],\n",
       " [6, 29, 81],\n",
       " [7, 29, 60],\n",
       " [8, 31, 73],\n",
       " [9, 26, 88],\n",
       " [10, 27, 85],\n",
       " [11, 27, 88],\n",
       " [12, 33, 89],\n",
       " [13, 34, 80],\n",
       " [14, 28, 100],\n",
       " [15, 28, 97],\n",
       " [16, 27, 95],\n",
       " [17, 31, 96],\n",
       " [18, 29, 96],\n",
       " [19, 27, 88],\n",
       " [20, 33, 70],\n",
       " [21, 35, 68],\n",
       " [22, 33, 56],\n",
       " [23, 30, 96],\n",
       " [24, 34, 96],\n",
       " [25, 36, 96]]"
      ]
     },
     "execution_count": 2,
     "metadata": {},
     "output_type": "execute_result"
    }
   ],
   "source": [
    "data"
   ]
  },
  {
   "cell_type": "code",
   "execution_count": 18,
   "id": "fef9569a",
   "metadata": {},
   "outputs": [],
   "source": [
    "import pandas as pd"
   ]
  },
  {
   "cell_type": "code",
   "execution_count": 30,
   "id": "59832419",
   "metadata": {},
   "outputs": [
    {
     "data": {
      "text/plain": [
       "DatetimeIndex(['2019-01-01', '2019-01-02', '2019-01-03', '2019-01-04',\n",
       "               '2019-01-05', '2019-01-06', '2019-01-07', '2019-01-08',\n",
       "               '2019-01-09', '2019-01-10', '2019-01-11', '2019-01-12',\n",
       "               '2019-01-13', '2019-01-14', '2019-01-15', '2019-01-16',\n",
       "               '2019-01-17', '2019-01-18', '2019-01-19', '2019-01-20',\n",
       "               '2019-01-21', '2019-01-22', '2019-01-23', '2019-01-24',\n",
       "               '2019-01-25'],\n",
       "              dtype='datetime64[ns]', freq='D')"
      ]
     },
     "execution_count": 30,
     "metadata": {},
     "output_type": "execute_result"
    }
   ],
   "source": [
    "datas = pd.date_range(start ='1-1-2019', periods = len(data), freq='D')\n",
    "dataframe = pd.DataFrame(data)"
   ]
  },
  {
   "cell_type": "code",
   "execution_count": 38,
   "id": "9ea322a6",
   "metadata": {},
   "outputs": [],
   "source": [
    "dataframe['datas'] = datas\n",
    "del dataframe[dataframe.columns[0]]"
   ]
  },
  {
   "cell_type": "code",
   "execution_count": 39,
   "id": "544de52a",
   "metadata": {},
   "outputs": [],
   "source": [
    "dataframe = dataframe.set_index('datas') "
   ]
  },
  {
   "cell_type": "code",
   "execution_count": 123,
   "id": "6abc4569",
   "metadata": {},
   "outputs": [
    {
     "data": {
      "text/html": [
       "<div>\n",
       "<style scoped>\n",
       "    .dataframe tbody tr th:only-of-type {\n",
       "        vertical-align: middle;\n",
       "    }\n",
       "\n",
       "    .dataframe tbody tr th {\n",
       "        vertical-align: top;\n",
       "    }\n",
       "\n",
       "    .dataframe thead th {\n",
       "        text-align: right;\n",
       "    }\n",
       "</style>\n",
       "<table border=\"1\" class=\"dataframe\">\n",
       "  <thead>\n",
       "    <tr style=\"text-align: right;\">\n",
       "      <th></th>\n",
       "      <th>temperatura</th>\n",
       "      <th>umidade</th>\n",
       "    </tr>\n",
       "    <tr>\n",
       "      <th>datas</th>\n",
       "      <th></th>\n",
       "      <th></th>\n",
       "    </tr>\n",
       "  </thead>\n",
       "  <tbody>\n",
       "    <tr>\n",
       "      <th>2019-01-01</th>\n",
       "      <td>28</td>\n",
       "      <td>89</td>\n",
       "    </tr>\n",
       "    <tr>\n",
       "      <th>2019-01-02</th>\n",
       "      <td>27</td>\n",
       "      <td>94</td>\n",
       "    </tr>\n",
       "    <tr>\n",
       "      <th>2019-01-03</th>\n",
       "      <td>25</td>\n",
       "      <td>96</td>\n",
       "    </tr>\n",
       "    <tr>\n",
       "      <th>2019-01-04</th>\n",
       "      <td>30</td>\n",
       "      <td>100</td>\n",
       "    </tr>\n",
       "    <tr>\n",
       "      <th>2019-01-05</th>\n",
       "      <td>31</td>\n",
       "      <td>98</td>\n",
       "    </tr>\n",
       "    <tr>\n",
       "      <th>2019-01-06</th>\n",
       "      <td>29</td>\n",
       "      <td>81</td>\n",
       "    </tr>\n",
       "    <tr>\n",
       "      <th>2019-01-07</th>\n",
       "      <td>29</td>\n",
       "      <td>60</td>\n",
       "    </tr>\n",
       "    <tr>\n",
       "      <th>2019-01-08</th>\n",
       "      <td>31</td>\n",
       "      <td>73</td>\n",
       "    </tr>\n",
       "    <tr>\n",
       "      <th>2019-01-09</th>\n",
       "      <td>26</td>\n",
       "      <td>88</td>\n",
       "    </tr>\n",
       "    <tr>\n",
       "      <th>2019-01-10</th>\n",
       "      <td>27</td>\n",
       "      <td>85</td>\n",
       "    </tr>\n",
       "  </tbody>\n",
       "</table>\n",
       "</div>"
      ],
      "text/plain": [
       "            temperatura  umidade\n",
       "datas                           \n",
       "2019-01-01           28       89\n",
       "2019-01-02           27       94\n",
       "2019-01-03           25       96\n",
       "2019-01-04           30      100\n",
       "2019-01-05           31       98\n",
       "2019-01-06           29       81\n",
       "2019-01-07           29       60\n",
       "2019-01-08           31       73\n",
       "2019-01-09           26       88\n",
       "2019-01-10           27       85"
      ]
     },
     "execution_count": 123,
     "metadata": {},
     "output_type": "execute_result"
    }
   ],
   "source": [
    "dataframe.head(10)"
   ]
  },
  {
   "cell_type": "code",
   "execution_count": 74,
   "id": "c0b797c4",
   "metadata": {},
   "outputs": [],
   "source": [
    "dataframe.columns = ['temperatura', 'umidade']"
   ]
  },
  {
   "cell_type": "code",
   "execution_count": 80,
   "id": "756a0022",
   "metadata": {},
   "outputs": [
    {
     "data": {
      "text/html": [
       "<div>\n",
       "<style scoped>\n",
       "    .dataframe tbody tr th:only-of-type {\n",
       "        vertical-align: middle;\n",
       "    }\n",
       "\n",
       "    .dataframe tbody tr th {\n",
       "        vertical-align: top;\n",
       "    }\n",
       "\n",
       "    .dataframe thead th {\n",
       "        text-align: right;\n",
       "    }\n",
       "</style>\n",
       "<table border=\"1\" class=\"dataframe\">\n",
       "  <thead>\n",
       "    <tr style=\"text-align: right;\">\n",
       "      <th></th>\n",
       "      <th>temperatura</th>\n",
       "      <th>umidade</th>\n",
       "    </tr>\n",
       "    <tr>\n",
       "      <th>datas</th>\n",
       "      <th></th>\n",
       "      <th></th>\n",
       "    </tr>\n",
       "  </thead>\n",
       "  <tbody>\n",
       "    <tr>\n",
       "      <th>2019-01-22</th>\n",
       "      <td>33</td>\n",
       "      <td>56</td>\n",
       "    </tr>\n",
       "  </tbody>\n",
       "</table>\n",
       "</div>"
      ],
      "text/plain": [
       "            temperatura  umidade\n",
       "datas                           \n",
       "2019-01-22           33       56"
      ]
     },
     "execution_count": 80,
     "metadata": {},
     "output_type": "execute_result"
    }
   ],
   "source": [
    "dataframe[(dataframe['temperatura'] > 30 ) & (dataframe['umidade'] < 60 )] "
   ]
  },
  {
   "cell_type": "code",
   "execution_count": 99,
   "id": "941d6443",
   "metadata": {},
   "outputs": [],
   "source": [
    "import matplotlib.pyplot as plt"
   ]
  },
  {
   "cell_type": "code",
   "execution_count": 158,
   "id": "394e48a9",
   "metadata": {},
   "outputs": [
    {
     "data": {
      "image/png": "[encoded data removed]",
      "text/plain": [
       "<Figure size 1080x288 with 2 Axes>"
      ]
     },
     "metadata": {
      "needs_background": "light"
     },
     "output_type": "display_data"
    }
   ],
   "source": [
    "fig, ax = plt.subplots(1, 1, figsize=(15,4))\n",
    "\n",
    "POSITION_DOT = 21\n",
    "\n",
    "plt.subplot(2, 1, 1)\n",
    "plt.bar(dataframe.index.values, dataframe['temperatura'])\n",
    "plt.plot(dataframe.index.values[POSITION_DOT], dataframe['temperatura'][POSITION_DOT], marker=\"D\", linestyle=\"\", alpha=0.8, color=\"r\")\n",
    "plt.xticks(dataframe.index[::5])\n",
    "\n",
    "\n",
    "plt.subplot(2, 1, 2)\n",
    "plt.bar(dataframe.index.values, dataframe['umidade'])\n",
    "plt.plot(dataframe.index.values[POSITION_DOT], dataframe['umidade'][POSITION_DOT], marker=\"D\", linestyle=\"\", alpha=0.8, color=\"r\")\n",
    "plt.xticks(dataframe.index[::5])\n",
    "\n",
    "\n",
    "\n",
    "plt.show()"
   ]
  },
  {
   "cell_type": "markdown",
   "id": "2770f540",
   "metadata": {},
   "source": [
    "### População\n",
    "A economia de um país pode ser caracterizada pelo número de habitantes e pelo salário médio desses habitantes. Mas será que estas duas variáveis estão linearmente relacionadas? Para analisar sobre a relação das duas variáveis é necessário encontrar os parâmetros da reta, \n",
    "m\n",
    "m\n",
    " e \n",
    "b\n",
    "b\n",
    ", tal que y=mx+b.\n",
    "\n",
    "Para a estimação dos parâmetros da reta considere a função np.polyfit e para cálculo dos valores da reta, a função np.polyval.\n",
    "\n",
    "Por exemplo, dada a sequências de registos com a população e o salário:"
   ]
  },
  {
   "cell_type": "code",
   "execution_count": 159,
   "id": "972dc0e0",
   "metadata": {},
   "outputs": [],
   "source": [
    "data = [\n",
    "    [6.1101,17.592],\n",
    "    [5.5277,9.1302],\n",
    "    [8.5186,13.662],\n",
    "    [7.0032,11.854],\n",
    "    [5.8598,6.8233],\n",
    "    [8.3829,11.886],\n",
    "    [7.4764,4.3483],\n",
    "    [8.5781,12],\n",
    "    [6.4862,6.5987],\n",
    "    [5.0546,3.8166],\n",
    "    [5.7107,3.2522],\n",
    "    [14.164,15.505],\n",
    "    [5.734,3.1551],\n",
    "    [8.4084,7.2258],\n",
    "    [5.6407,0.71618],\n",
    "    [5.3794,3.5129],\n",
    "    [6.3654,5.3048],\n",
    "    [5.1301,0.56077],\n",
    "    [6.4296,3.6518],\n",
    "    [7.0708,5.3893],\n",
    "    [6.1891,3.1386],\n",
    "    [20.27,21.767],\n",
    "    [5.4901,4.263],\n",
    "    [6.3261,5.1875],\n",
    "    [5.5649,3.0825]\n",
    "]"
   ]
  },
  {
   "cell_type": "code",
   "execution_count": 160,
   "id": "59ad0560",
   "metadata": {},
   "outputs": [],
   "source": [
    "import numpy as np"
   ]
  },
  {
   "cell_type": "code",
   "execution_count": 162,
   "id": "75c19162",
   "metadata": {},
   "outputs": [
    {
     "data": {
      "text/html": [
       "<div>\n",
       "<style scoped>\n",
       "    .dataframe tbody tr th:only-of-type {\n",
       "        vertical-align: middle;\n",
       "    }\n",
       "\n",
       "    .dataframe tbody tr th {\n",
       "        vertical-align: top;\n",
       "    }\n",
       "\n",
       "    .dataframe thead th {\n",
       "        text-align: right;\n",
       "    }\n",
       "</style>\n",
       "<table border=\"1\" class=\"dataframe\">\n",
       "  <thead>\n",
       "    <tr style=\"text-align: right;\">\n",
       "      <th></th>\n",
       "      <th>x</th>\n",
       "      <th>y</th>\n",
       "    </tr>\n",
       "  </thead>\n",
       "  <tbody>\n",
       "    <tr>\n",
       "      <th>0</th>\n",
       "      <td>6.1101</td>\n",
       "      <td>17.5920</td>\n",
       "    </tr>\n",
       "    <tr>\n",
       "      <th>1</th>\n",
       "      <td>5.5277</td>\n",
       "      <td>9.1302</td>\n",
       "    </tr>\n",
       "    <tr>\n",
       "      <th>2</th>\n",
       "      <td>8.5186</td>\n",
       "      <td>13.6620</td>\n",
       "    </tr>\n",
       "    <tr>\n",
       "      <th>3</th>\n",
       "      <td>7.0032</td>\n",
       "      <td>11.8540</td>\n",
       "    </tr>\n",
       "    <tr>\n",
       "      <th>4</th>\n",
       "      <td>5.8598</td>\n",
       "      <td>6.8233</td>\n",
       "    </tr>\n",
       "    <tr>\n",
       "      <th>5</th>\n",
       "      <td>8.3829</td>\n",
       "      <td>11.8860</td>\n",
       "    </tr>\n",
       "    <tr>\n",
       "      <th>6</th>\n",
       "      <td>7.4764</td>\n",
       "      <td>4.3483</td>\n",
       "    </tr>\n",
       "    <tr>\n",
       "      <th>7</th>\n",
       "      <td>8.5781</td>\n",
       "      <td>12.0000</td>\n",
       "    </tr>\n",
       "    <tr>\n",
       "      <th>8</th>\n",
       "      <td>6.4862</td>\n",
       "      <td>6.5987</td>\n",
       "    </tr>\n",
       "    <tr>\n",
       "      <th>9</th>\n",
       "      <td>5.0546</td>\n",
       "      <td>3.8166</td>\n",
       "    </tr>\n",
       "  </tbody>\n",
       "</table>\n",
       "</div>"
      ],
      "text/plain": [
       "        x        y\n",
       "0  6.1101  17.5920\n",
       "1  5.5277   9.1302\n",
       "2  8.5186  13.6620\n",
       "3  7.0032  11.8540\n",
       "4  5.8598   6.8233\n",
       "5  8.3829  11.8860\n",
       "6  7.4764   4.3483\n",
       "7  8.5781  12.0000\n",
       "8  6.4862   6.5987\n",
       "9  5.0546   3.8166"
      ]
     },
     "execution_count": 162,
     "metadata": {},
     "output_type": "execute_result"
    }
   ],
   "source": [
    "dataframe = pd.DataFrame(data)\n",
    "dataframe.columns = ['x', 'y']\n",
    "dataframe.head(10)"
   ]
  },
  {
   "cell_type": "code",
   "execution_count": 180,
   "id": "b9b3807c",
   "metadata": {},
   "outputs": [
    {
     "name": "stdout",
     "output_type": "stream",
     "text": [
      "1.2520780912761402 e -1.821803896877995\n"
     ]
    }
   ],
   "source": [
    "m, b = np.polyfit(dataframe.x, dataframe.y, 1)\n",
    "print(f'{m} e {b}')"
   ]
  },
  {
   "cell_type": "code",
   "execution_count": 181,
   "id": "33d0b005",
   "metadata": {},
   "outputs": [
    {
     "name": "stdout",
     "output_type": "stream",
     "text": [
      " \n",
      "1.252 x - 1.822\n"
     ]
    }
   ],
   "source": [
    "poly_with_value = np.poly1d([m, b]) \n",
    "print(f'{poly_with_value}')"
   ]
  },
  {
   "cell_type": "code",
   "execution_count": 182,
   "id": "3e213285",
   "metadata": {},
   "outputs": [
    {
     "data": {
      "text/plain": [
       "poly1d([1.25207809])"
      ]
     },
     "execution_count": 182,
     "metadata": {},
     "output_type": "execute_result"
    }
   ],
   "source": [
    "np.polyval([m], np.poly1d(b))"
   ]
  },
  {
   "cell_type": "code",
   "execution_count": 190,
   "id": "93c3c040",
   "metadata": {},
   "outputs": [
    {
     "data": {
      "text/plain": [
       "Text(0, 0.5, 'Salário')"
      ]
     },
     "execution_count": 190,
     "metadata": {},
     "output_type": "execute_result"
    },
    {
     "data": {
      "image/png": "[encoded data removed]",
      "text/plain": [
       "<Figure size 432x288 with 1 Axes>"
      ]
     },
     "metadata": {
      "needs_background": "light"
     },
     "output_type": "display_data"
    }
   ],
   "source": [
    "plt.plot(dataframe.x, dataframe.y, 'x')\n",
    "plt.plot(dataframe.x, m*dataframe.x + b, 'r-')\n",
    "plt.xlabel('População (milhões de habitantes)')\n",
    "plt.ylabel('Salário')"
   ]
  },
  {
   "cell_type": "markdown",
   "id": "8c7c3f78",
   "metadata": {},
   "source": [
    "### Centróides\n",
    "Três pontos, designados centróides, estão localizados nas seguintes posições: [5.0, 0.0],[45.0, 70.0],[50.0, 90.0]. Os centróides podem ser identificados por: 0,1,2.\n",
    "\n",
    "A partir de uma lista desorganizada de pontos, pretende-se classificar cada ponto no centróide respetivo, sendo escolhido o centróide mais próximo do ponto em análise.\n",
    "\n",
    "Por exemplo, dada uma sequência de pontos com coordenadas x,y:"
   ]
  },
  {
   "cell_type": "code",
   "execution_count": 226,
   "id": "11fcfc47",
   "metadata": {},
   "outputs": [],
   "source": [
    "centroides = np.array([[5.0, 0.0], [45.0, 70.0], [50.0, 90.0]])\n",
    "pontos = np.array([[15,16],\n",
    "    [16,18.5],\n",
    "    [17,20.2],\n",
    "    [16.4,17.12],\n",
    "    [17.23,18.12],\n",
    "    [43,43],\n",
    "    [44.43,45.212],\n",
    "    [45.8,54.23],\n",
    "    [46.313,43.123],\n",
    "    [50.21,46.3],\n",
    "    [99,99.22],\n",
    "    [100.32,98.123],\n",
    "    [100.32,97.423],\n",
    "    [102,93.23],\n",
    "    [102.23,94.23]])"
   ]
  },
  {
   "cell_type": "code",
   "execution_count": 227,
   "id": "00c4449e",
   "metadata": {},
   "outputs": [
    {
     "data": {
      "text/plain": [
       "[0, 0, 0, 0, 0, 1, 1, 1, 1, 1, 2, 2, 2, 2, 2]"
      ]
     },
     "execution_count": 227,
     "metadata": {},
     "output_type": "execute_result"
    }
   ],
   "source": [
    "classificacao = []\n",
    "for item in pontos:\n",
    "    resultados = []\n",
    "    for elemento in centroides:\n",
    "        resultados.append(np.linalg.norm(elemento - item))\n",
    "    classificacao.append(resultados.index(min(resultados)))\n",
    "classificacao"
   ]
  },
  {
   "cell_type": "code",
   "execution_count": 230,
   "id": "0a9d4123",
   "metadata": {},
   "outputs": [
    {
     "data": {
      "text/html": [
       "<div>\n",
       "<style scoped>\n",
       "    .dataframe tbody tr th:only-of-type {\n",
       "        vertical-align: middle;\n",
       "    }\n",
       "\n",
       "    .dataframe tbody tr th {\n",
       "        vertical-align: top;\n",
       "    }\n",
       "\n",
       "    .dataframe thead th {\n",
       "        text-align: right;\n",
       "    }\n",
       "</style>\n",
       "<table border=\"1\" class=\"dataframe\">\n",
       "  <thead>\n",
       "    <tr style=\"text-align: right;\">\n",
       "      <th></th>\n",
       "      <th>x</th>\n",
       "      <th>y</th>\n",
       "      <th>key1</th>\n",
       "    </tr>\n",
       "  </thead>\n",
       "  <tbody>\n",
       "    <tr>\n",
       "      <th>0</th>\n",
       "      <td>15.000</td>\n",
       "      <td>16.000</td>\n",
       "      <td>0</td>\n",
       "    </tr>\n",
       "    <tr>\n",
       "      <th>1</th>\n",
       "      <td>16.000</td>\n",
       "      <td>18.500</td>\n",
       "      <td>0</td>\n",
       "    </tr>\n",
       "    <tr>\n",
       "      <th>2</th>\n",
       "      <td>17.000</td>\n",
       "      <td>20.200</td>\n",
       "      <td>0</td>\n",
       "    </tr>\n",
       "    <tr>\n",
       "      <th>3</th>\n",
       "      <td>16.400</td>\n",
       "      <td>17.120</td>\n",
       "      <td>0</td>\n",
       "    </tr>\n",
       "    <tr>\n",
       "      <th>4</th>\n",
       "      <td>17.230</td>\n",
       "      <td>18.120</td>\n",
       "      <td>0</td>\n",
       "    </tr>\n",
       "    <tr>\n",
       "      <th>5</th>\n",
       "      <td>43.000</td>\n",
       "      <td>43.000</td>\n",
       "      <td>1</td>\n",
       "    </tr>\n",
       "    <tr>\n",
       "      <th>6</th>\n",
       "      <td>44.430</td>\n",
       "      <td>45.212</td>\n",
       "      <td>1</td>\n",
       "    </tr>\n",
       "    <tr>\n",
       "      <th>7</th>\n",
       "      <td>45.800</td>\n",
       "      <td>54.230</td>\n",
       "      <td>1</td>\n",
       "    </tr>\n",
       "    <tr>\n",
       "      <th>8</th>\n",
       "      <td>46.313</td>\n",
       "      <td>43.123</td>\n",
       "      <td>1</td>\n",
       "    </tr>\n",
       "    <tr>\n",
       "      <th>9</th>\n",
       "      <td>50.210</td>\n",
       "      <td>46.300</td>\n",
       "      <td>1</td>\n",
       "    </tr>\n",
       "  </tbody>\n",
       "</table>\n",
       "</div>"
      ],
      "text/plain": [
       "        x       y  key1\n",
       "0  15.000  16.000     0\n",
       "1  16.000  18.500     0\n",
       "2  17.000  20.200     0\n",
       "3  16.400  17.120     0\n",
       "4  17.230  18.120     0\n",
       "5  43.000  43.000     1\n",
       "6  44.430  45.212     1\n",
       "7  45.800  54.230     1\n",
       "8  46.313  43.123     1\n",
       "9  50.210  46.300     1"
      ]
     },
     "execution_count": 230,
     "metadata": {},
     "output_type": "execute_result"
    }
   ],
   "source": [
    "data = [\n",
    "    [15,16],\n",
    "    [16,18.5],\n",
    "    [17,20.2],\n",
    "    [16.4,17.12],\n",
    "    [17.23,18.12],\n",
    "    [43,43],\n",
    "    [44.43,45.212],\n",
    "    [45.8,54.23],\n",
    "    [46.313,43.123],\n",
    "    [50.21,46.3],\n",
    "    [99,99.22],\n",
    "    [100.32,98.123],\n",
    "    [100.32,97.423],\n",
    "    [102,93.23],\n",
    "    [102.23,94.23]\n",
    "]\n",
    "dataframe = pd.DataFrame(data)\n",
    "dataframe.columns = ['x', 'y']\n",
    "dataframe['key1'] = classificacao\n",
    "dataframe.head(10)"
   ]
  },
  {
   "cell_type": "code",
   "execution_count": 231,
   "id": "7b4e8caa",
   "metadata": {},
   "outputs": [
    {
     "data": {
      "image/png": "[encoded data removed]",
      "text/plain": [
       "<Figure size 432x288 with 1 Axes>"
      ]
     },
     "metadata": {
      "needs_background": "light"
     },
     "output_type": "display_data"
    }
   ],
   "source": [
    "fig, ax = plt.subplots()\n",
    "sc = ax.scatter(dataframe.x, dataframe.y, marker = 'o', c = dataframe['key1'], alpha = 0.8)\n",
    "ax.legend(*sc.legend_elements())\n",
    "plt.title('Centroides')\n",
    "plt.show()"
   ]
  },
  {
   "cell_type": "code",
   "execution_count": null,
   "id": "d089e81f",
   "metadata": {},
   "outputs": [],
   "source": []
  }
 ],
 "metadata": {
  "kernelspec": {
   "display_name": "Python 3 (ipykernel)",
   "language": "python",
   "name": "python3"
  },
  "language_info": {
   "codemirror_mode": {
    "name": "ipython",
    "version": 3
   },
   "file_extension": ".py",
   "mimetype": "text/x-python",
   "name": "python",
   "nbconvert_exporter": "python",
   "pygments_lexer": "ipython3",
   "version": "3.9.7"
  }
 },
 "nbformat": 4,
 "nbformat_minor": 5
}
